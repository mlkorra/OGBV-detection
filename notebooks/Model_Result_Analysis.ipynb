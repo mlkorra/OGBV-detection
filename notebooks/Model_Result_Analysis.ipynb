{
  "nbformat": 4,
  "nbformat_minor": 0,
  "metadata": {
    "colab": {
      "name": "Model Result Analysis.ipynb",
      "provenance": []
    },
    "kernelspec": {
      "name": "python3",
      "display_name": "Python 3"
    },
    "language_info": {
      "name": "python"
    }
  },
  "cells": [
    {
      "cell_type": "markdown",
      "metadata": {
        "id": "YCsV6gRVesZP"
      },
      "source": [
        "## Model Result Analysis"
      ]
    },
    {
      "cell_type": "code",
      "metadata": {
        "id": "iE9n5aqNQ1MD",
        "colab": {
          "base_uri": "https://localhost:8080/"
        },
        "outputId": "7003500a-c841-49fb-f712-20ab036d497d"
      },
      "source": [
        "!pip install -qq ipython-autotime\n",
        "\n",
        "%unload_ext autotime"
      ],
      "execution_count": 1,
      "outputs": [
        {
          "output_type": "stream",
          "name": "stdout",
          "text": [
            "The autotime extension is not loaded.\n"
          ]
        }
      ]
    },
    {
      "cell_type": "code",
      "metadata": {
        "id": "GZOnOUv2gc4T"
      },
      "source": [
        "import pandas as pd\n",
        "import numpy as np\n",
        "import matplotlib.pyplot as plt\n",
        "import seaborn as sns\n",
        "import random\n",
        "from argparse import Namespace\n",
        "from collections import Counter\n",
        "sns.set(style=\"darkgrid\")\n",
        "import os\n",
        "from sklearn.metrics import classification_report\n",
        "\n",
        "import warnings\n",
        "warnings.filterwarnings(\"ignore\")\n",
        "%matplotlib inline"
      ],
      "execution_count": 2,
      "outputs": []
    },
    {
      "cell_type": "code",
      "metadata": {
        "id": "0ib2OPxfIu4A"
      },
      "source": [
        "pd.set_option('max_rows', 99999)\n",
        "pd.set_option('max_colwidth', 400)\n",
        "pd.describe_option('max_colwidth')"
      ],
      "execution_count": null,
      "outputs": []
    },
    {
      "cell_type": "code",
      "metadata": {
        "id": "3PX7EP2zlPDl"
      },
      "source": [
        "def get_analysis(gold_csv,pred_csv,test_set_df,subtask):\n",
        "    \n",
        "    \"\"\"\n",
        "    Get the Confusion Matrix to analyze the model  \n",
        "    ---------------------------------------------\n",
        "    \n",
        "    Parameters:\n",
        "        gold_csv: Location of gold label csv file\n",
        "        pred_csv: Location of csv with predicted labels\n",
        "        test_set_df: Df containing the 'ID' and corresponding text\n",
        "        subtask: either 'a' or 'b'\n",
        "\n",
        "    Return:\n",
        "        analysis_df: dataframe containing the columns  Text, True labels as 'true'\n",
        "                     predicted labels as 'pred'\n",
        "        cross_tab: A pandas crosstab as confusion matrix\n",
        "    \"\"\"\n",
        "    \n",
        "    gold_df = pd.read_csv(gold_csv)\n",
        "    preds_df = pd.read_csv(pred_csv)\n",
        "    preds_df.rename(\n",
        "        columns={'Label':'pred'},\n",
        "        inplace=True,\n",
        "    )\n",
        "    temp = pd.merge(\n",
        "        test_set_df,\n",
        "        gold_df, on='ID'\n",
        "    )\n",
        "    temp.rename(\n",
        "        columns={f'Sub-task {subtask.upper()}': 'true'},\n",
        "        inplace=True\n",
        "    )\n",
        "    analysis_df = pd.merge(temp, preds_df, on='ID')\n",
        "    cross_tab = pd.crosstab(\n",
        "        # y true\n",
        "        analysis_df.true ,  \n",
        "        # y pred\n",
        "        analysis_df.pred , \n",
        "        rownames=['True'], colnames=['Predicted'], margins=True\n",
        "    )\n",
        "    return analysis_df, cross_tab"
      ],
      "execution_count": 3,
      "outputs": []
    },
    {
      "cell_type": "code",
      "metadata": {
        "id": "CPBERYMjmxu5"
      },
      "source": [
        "def print_samples(label,analysis_df,mistakes=True,num_samples=5):\n",
        "    \n",
        "    \"\"\"\n",
        "    Print the correct and incorrect samples for analysis for \n",
        "    ----------------------------------------------------\n",
        "\n",
        "    Parameters:\n",
        "      label       :  select the particular class/label in the data\n",
        "      analysis_df :  dataframe containing the Truth values and Model Predictions\n",
        "      mistakes    :  if True(default) selects the incorrect classifications\n",
        "                     else selects the correct one's\n",
        "      num_samples :  count of samples to print\n",
        "\n",
        "    \"\"\"\n",
        "    \n",
        "    with pd.option_context('display.max_colwidth', -1): \n",
        "        # print misclassfied text data\n",
        "        if mistakes: \n",
        "            df = analysis_df[analysis_df.true != analysis_df.pred]\n",
        "            [['Text','true','pred']]\n",
        "        # print correctly classified text data\n",
        "        else:\n",
        "            df = analysis_df[analysis_df.true == analysis_df.pred]\n",
        "            [['Text','true','pred']]\n",
        "            \n",
        "        return df[df['true']==label][:num_samples]"
      ],
      "execution_count": 4,
      "outputs": []
    },
    {
      "cell_type": "code",
      "metadata": {
        "id": "cWz7jNef_JwW"
      },
      "source": [
        "def get_confusion_matrix(df):\n",
        "\n",
        "  \"\"\"\n",
        "  Util function to get confusion matrix of the model on test set\n",
        "  \"\"\"\n",
        "  \n",
        "  with sns.plotting_context('notebook',font_scale=1.6):\n",
        "    f, ax = plt.subplots(figsize=(6, 6))\n",
        "    ax = sns.heatmap(\n",
        "        df,\n",
        "        annot=True,\n",
        "        fmt=\"d\", \n",
        "        cmap= 'Blues',\n",
        "        annot_kws={\"size\": 20},\n",
        "    )"
      ],
      "execution_count": 5,
      "outputs": []
    },
    {
      "cell_type": "code",
      "metadata": {
        "id": "MHNtQe8Jvx1b"
      },
      "source": [
        "Test_Set = pd.read_csv('trac2_hin_test.csv')"
      ],
      "execution_count": 7,
      "outputs": []
    },
    {
      "cell_type": "markdown",
      "metadata": {
        "id": "4kDvOcWya-zS"
      },
      "source": [
        "##Confusion Matrix"
      ]
    },
    {
      "cell_type": "markdown",
      "metadata": {
        "id": "qc0Zfnmpez9U"
      },
      "source": [
        "### Task A- Aggresive text Classification"
      ]
    },
    {
      "cell_type": "markdown",
      "metadata": {
        "id": "5TjYKaK0-Nos"
      },
      "source": [
        "#### Logistic Regression\n",
        "\n",
        "- LR with CV vect "
      ]
    },
    {
      "cell_type": "code",
      "metadata": {
        "id": "9wjvu-5h-QdY"
      },
      "source": [
        "lr_hin_a_analysis_df, lr_hin_a_crosstab = get_analysis(\n",
        "    gold_csv = 'trac2_hin_gold_a.csv',\n",
        "    pred_csv = 'trac2_hin_lr_tfidf_preds_a.csv',\n",
        "    test_set_df =Test_Set,\n",
        "    subtask = 'a',\n",
        ")"
      ],
      "execution_count": 56,
      "outputs": []
    },
    {
      "cell_type": "code",
      "metadata": {
        "colab": {
          "base_uri": "https://localhost:8080/",
          "height": 414
        },
        "id": "De5vJPQB_eKB",
        "outputId": "1fef5054-b04b-48db-bb04-5fbaa8beb92e"
      },
      "source": [
        "get_confusion_matrix(lr_hin_a_crosstab)"
      ],
      "execution_count": 57,
      "outputs": [
        {
          "output_type": "display_data",
          "data": {
            "image/png": "[encoded data removed]",
            "text/plain": [
              "<Figure size 432x432 with 2 Axes>"
            ]
          },
          "metadata": {
            "needs_background": "light"
          }
        }
      ]
    },
    {
      "cell_type": "code",
      "metadata": {
        "colab": {
          "base_uri": "https://localhost:8080/"
        },
        "id": "I7QO7i_Qy52G",
        "outputId": "4641e704-1677-4942-def4-eef6e380ef7c"
      },
      "source": [
        "print(classification_report(\n",
        "    y_true = lr_hin_a_analysis_df.true,\n",
        "    y_pred = lr_hin_a_analysis_df.pred,\n",
        "))"
      ],
      "execution_count": 84,
      "outputs": [
        {
          "output_type": "stream",
          "name": "stdout",
          "text": [
            "              precision    recall  f1-score   support\n",
            "\n",
            "         CAG       0.51      0.49      0.50       191\n",
            "         NAG       0.58      0.84      0.68       325\n",
            "         OAG       0.90      0.71      0.80       684\n",
            "\n",
            "    accuracy                           0.71      1200\n",
            "   macro avg       0.66      0.68      0.66      1200\n",
            "weighted avg       0.75      0.71      0.72      1200\n",
            "\n"
          ]
        }
      ]
    },
    {
      "cell_type": "markdown",
      "metadata": {
        "id": "whuVDO-LDz8v"
      },
      "source": [
        "- LR model most confused with \n",
        "  \n",
        "  - NAG (predict) and OAG (true) [134 misclassified]\n",
        "  - NAG (predict) and CAG (true) [67 misclassified] \n",
        "  - CAG (predict) and OAG (true) [61 misclassified]"
      ]
    },
    {
      "cell_type": "markdown",
      "metadata": {
        "id": "_4mcF44G-ItW"
      },
      "source": [
        "#### SVC\n",
        "- SVC with linear kernel,C=2.0,tfidf vect with ngram(1,2)"
      ]
    },
    {
      "cell_type": "code",
      "metadata": {
        "id": "17_hIxH8u2em"
      },
      "source": [
        "svc_hin_a_analysis_df, svc_hin_a_crosstab = get_analysis(\n",
        "    gold_csv = 'trac2_hin_gold_a.csv',\n",
        "    pred_csv = 'trac2_hin_svc_preds_a.csv',\n",
        "    test_set_df =Test_Set,\n",
        "    subtask = 'a',\n",
        ")"
      ],
      "execution_count": 58,
      "outputs": []
    },
    {
      "cell_type": "code",
      "metadata": {
        "colab": {
          "base_uri": "https://localhost:8080/",
          "height": 414
        },
        "id": "87ryZzOh_Bfs",
        "outputId": "d6f98a2f-10fb-4147-9339-0672ca222350"
      },
      "source": [
        "get_confusion_matrix(svc_hin_a_crosstab)"
      ],
      "execution_count": 59,
      "outputs": [
        {
          "output_type": "display_data",
          "data": {
            "image/png": "[encoded data removed]",
            "text/plain": [
              "<Figure size 432x432 with 2 Axes>"
            ]
          },
          "metadata": {
            "needs_background": "light"
          }
        }
      ]
    },
    {
      "cell_type": "code",
      "metadata": {
        "colab": {
          "base_uri": "https://localhost:8080/"
        },
        "id": "PTvuAPAEyoDQ",
        "outputId": "e1ba6184-abbf-42d9-d58d-643d80368419"
      },
      "source": [
        "print(classification_report(\n",
        "    y_true = svc_hin_a_analysis_df.true,\n",
        "    y_pred = svc_hin_a_analysis_df.pred,\n",
        "))"
      ],
      "execution_count": 83,
      "outputs": [
        {
          "output_type": "stream",
          "name": "stdout",
          "text": [
            "              precision    recall  f1-score   support\n",
            "\n",
            "         CAG       0.44      0.59      0.50       191\n",
            "         NAG       0.66      0.71      0.68       325\n",
            "         OAG       0.89      0.78      0.83       684\n",
            "\n",
            "    accuracy                           0.73      1200\n",
            "   macro avg       0.66      0.69      0.67      1200\n",
            "weighted avg       0.76      0.73      0.74      1200\n",
            "\n"
          ]
        }
      ]
    },
    {
      "cell_type": "markdown",
      "metadata": {
        "id": "8Y0e1mHCYGxn"
      },
      "source": [
        "- SVC model most confused with \n",
        "  \n",
        "  - CAG (predict) and OAG (true) [84 misclassifications]\n",
        "  - NAG (predict) and OAG (true) [69 misclassifications]\n",
        "  - CAG (predict) and NAG (true) [61 misclassifications]"
      ]
    },
    {
      "cell_type": "markdown",
      "metadata": {
        "id": "nxqzRUwVF9S6"
      },
      "source": [
        "### Task B - Gendered Text Classification"
      ]
    },
    {
      "cell_type": "markdown",
      "metadata": {
        "id": "0h0XLwGuGT8b"
      },
      "source": [
        "#### Logistic Regression\n",
        "- LR with CV vect"
      ]
    },
    {
      "cell_type": "code",
      "metadata": {
        "id": "xwLwqmkqGpvc"
      },
      "source": [
        "lr_hin_b_analysis_df, lr_hin_b_crosstab = get_analysis(\n",
        "    gold_csv = 'trac2_hin_gold_b.csv',\n",
        "    pred_csv = 'trac2_hin_lr_cv_preds_b.csv',\n",
        "    test_set_df =Test_Set,\n",
        "    subtask = 'b',\n",
        ")"
      ],
      "execution_count": 60,
      "outputs": []
    },
    {
      "cell_type": "code",
      "metadata": {
        "colab": {
          "base_uri": "https://localhost:8080/",
          "height": 414
        },
        "id": "K-h37rZRGOZF",
        "outputId": "c16e46ff-818a-405e-d8ef-74583a8195f1"
      },
      "source": [
        "get_confusion_matrix(lr_hin_b_crosstab)"
      ],
      "execution_count": 61,
      "outputs": [
        {
          "output_type": "display_data",
          "data": {
            "image/png": "[encoded data removed]",
            "text/plain": [
              "<Figure size 432x432 with 2 Axes>"
            ]
          },
          "metadata": {
            "needs_background": "light"
          }
        }
      ]
    },
    {
      "cell_type": "code",
      "metadata": {
        "colab": {
          "base_uri": "https://localhost:8080/"
        },
        "id": "hNf0rdmnyhV5",
        "outputId": "e52be587-2163-426b-df1c-0f8824b39976"
      },
      "source": [
        "print(classification_report(\n",
        "    y_true = lr_hin_b_analysis_df.true,\n",
        "    y_pred = lr_hin_b_analysis_df.pred,\n",
        "))"
      ],
      "execution_count": 82,
      "outputs": [
        {
          "output_type": "stream",
          "name": "stdout",
          "text": [
            "              precision    recall  f1-score   support\n",
            "\n",
            "         GEN       0.90      0.55      0.68       567\n",
            "        NGEN       0.70      0.95      0.81       633\n",
            "\n",
            "    accuracy                           0.76      1200\n",
            "   macro avg       0.80      0.75      0.74      1200\n",
            "weighted avg       0.80      0.76      0.75      1200\n",
            "\n"
          ]
        }
      ]
    },
    {
      "cell_type": "markdown",
      "metadata": {
        "id": "DRF9bNltHuOT"
      },
      "source": [
        "- LR model most confused with\n",
        " - NGEN (predict) and GEN (truth)\n",
        "\n",
        "- High % of correct predictions in Majority Class (NGEN)"
      ]
    },
    {
      "cell_type": "markdown",
      "metadata": {
        "id": "IJH_viWCGcr9"
      },
      "source": [
        "#### BERT \n",
        "- pretrained on hi-en code mixed data"
      ]
    },
    {
      "cell_type": "code",
      "metadata": {
        "id": "LMLTV7wnHQJx"
      },
      "source": [
        "bert_hin_b_analysis_df, bert_hin_b_crosstab = get_analysis(\n",
        "    gold_csv = 'trac2_hin_gold_b.csv',\n",
        "    pred_csv = 'trac2_hin_BERT_preds_b2.csv',\n",
        "    test_set_df =Test_Set,\n",
        "    subtask = 'b',\n",
        ")"
      ],
      "execution_count": 62,
      "outputs": []
    },
    {
      "cell_type": "code",
      "metadata": {
        "colab": {
          "base_uri": "https://localhost:8080/",
          "height": 414
        },
        "id": "ssnCBB9dGcYP",
        "outputId": "77240acf-ab56-4ac9-fde1-7f129d97c63f"
      },
      "source": [
        "get_confusion_matrix(bert_hin_b_crosstab)"
      ],
      "execution_count": 63,
      "outputs": [
        {
          "output_type": "display_data",
          "data": {
            "image/png": "[encoded data removed]",
            "text/plain": [
              "<Figure size 432x432 with 2 Axes>"
            ]
          },
          "metadata": {
            "needs_background": "light"
          }
        }
      ]
    },
    {
      "cell_type": "code",
      "metadata": {
        "colab": {
          "base_uri": "https://localhost:8080/"
        },
        "id": "kI2N-UYrmxkK",
        "outputId": "2e754078-1406-4d87-d9cd-02477048c3a6"
      },
      "source": [
        "print(classification_report(\n",
        "    y_true = bert_hin_b_analysis_df.true,\n",
        "    y_pred = bert_hin_b_analysis_df.pred,\n",
        "))"
      ],
      "execution_count": 81,
      "outputs": [
        {
          "output_type": "stream",
          "name": "stdout",
          "text": [
            "              precision    recall  f1-score   support\n",
            "\n",
            "         GEN       0.90      0.66      0.77       567\n",
            "        NGEN       0.76      0.94      0.84       633\n",
            "\n",
            "    accuracy                           0.81      1200\n",
            "   macro avg       0.83      0.80      0.80      1200\n",
            "weighted avg       0.83      0.81      0.80      1200\n",
            "\n"
          ]
        }
      ]
    },
    {
      "cell_type": "markdown",
      "metadata": {
        "id": "ddX2X1j-vudB"
      },
      "source": [
        "- BERT model most confused with\n",
        " - NGEN (predict) and GEN (truth)\n",
        "\n",
        "- Better predictions of minority class (GEN) compared to baselines"
      ]
    },
    {
      "cell_type": "markdown",
      "metadata": {
        "id": "yJI5d5NdGIvh"
      },
      "source": [
        "## Correct and Incorrect Predictions"
      ]
    },
    {
      "cell_type": "markdown",
      "metadata": {
        "id": "2xsU_xD5wg3V"
      },
      "source": [
        "### Task A"
      ]
    },
    {
      "cell_type": "markdown",
      "metadata": {
        "id": "Ay3uQMFlbEoZ"
      },
      "source": [
        "#### SVC"
      ]
    },
    {
      "cell_type": "code",
      "metadata": {
        "colab": {
          "base_uri": "https://localhost:8080/",
          "height": 202
        },
        "id": "ARk2Bfb1Cn5Q",
        "outputId": "1a3805ba-94e6-4a54-b31a-83a605c46e18"
      },
      "source": [
        "svc_hin_a_analysis_df.head()"
      ],
      "execution_count": 66,
      "outputs": [
        {
          "output_type": "execute_result",
          "data": {
            "text/html": [
              "<div>\n",
              "<style scoped>\n",
              "    .dataframe tbody tr th:only-of-type {\n",
              "        vertical-align: middle;\n",
              "    }\n",
              "\n",
              "    .dataframe tbody tr th {\n",
              "        vertical-align: top;\n",
              "    }\n",
              "\n",
              "    .dataframe thead th {\n",
              "        text-align: right;\n",
              "    }\n",
              "</style>\n",
              "<table border=\"1\" class=\"dataframe\">\n",
              "  <thead>\n",
              "    <tr style=\"text-align: right;\">\n",
              "      <th></th>\n",
              "      <th>ID</th>\n",
              "      <th>Text</th>\n",
              "      <th>true</th>\n",
              "      <th>Unnamed: 0</th>\n",
              "      <th>pred</th>\n",
              "    </tr>\n",
              "  </thead>\n",
              "  <tbody>\n",
              "    <tr>\n",
              "      <th>0</th>\n",
              "      <td>C52.17</td>\n",
              "      <td>ko</td>\n",
              "      <td>NAG</td>\n",
              "      <td>0</td>\n",
              "      <td>OAG</td>\n",
              "    </tr>\n",
              "    <tr>\n",
              "      <th>1</th>\n",
              "      <td>C52.39</td>\n",
              "      <td>ladkiyon video</td>\n",
              "      <td>NAG</td>\n",
              "      <td>1</td>\n",
              "      <td>NAG</td>\n",
              "    </tr>\n",
              "    <tr>\n",
              "      <th>2</th>\n",
              "      <td>C52.73</td>\n",
              "      <td>ki video gahrep</td>\n",
              "      <td>NAG</td>\n",
              "      <td>2</td>\n",
              "      <td>NAG</td>\n",
              "    </tr>\n",
              "    <tr>\n",
              "      <th>3</th>\n",
              "      <td>C60.3</td>\n",
              "      <td>o sadharon video bhai</td>\n",
              "      <td>NAG</td>\n",
              "      <td>3</td>\n",
              "      <td>NAG</td>\n",
              "    </tr>\n",
              "    <tr>\n",
              "      <th>4</th>\n",
              "      <td>C60.43</td>\n",
              "      <td>ba bhai kyea bola tum moza aaa giea 😌😌😌😂😂😂</td>\n",
              "      <td>NAG</td>\n",
              "      <td>4</td>\n",
              "      <td>NAG</td>\n",
              "    </tr>\n",
              "  </tbody>\n",
              "</table>\n",
              "</div>"
            ],
            "text/plain": [
              "       ID                                        Text true  Unnamed: 0 pred\n",
              "0  C52.17                                          ko  NAG           0  OAG\n",
              "1  C52.39                              ladkiyon video  NAG           1  NAG\n",
              "2  C52.73                             ki video gahrep  NAG           2  NAG\n",
              "3   C60.3                       o sadharon video bhai  NAG           3  NAG\n",
              "4  C60.43  ba bhai kyea bola tum moza aaa giea 😌😌😌😂😂😂  NAG           4  NAG"
            ]
          },
          "metadata": {},
          "execution_count": 66
        }
      ]
    },
    {
      "cell_type": "code",
      "metadata": {
        "id": "FzSUqerlHGyW"
      },
      "source": [
        "svc_hin_a_analysis_df = svc_hin_a_analysis_df.iloc[:,[0,1,2,4]]"
      ],
      "execution_count": 73,
      "outputs": []
    },
    {
      "cell_type": "markdown",
      "metadata": {
        "id": "SYKDF7iUHTc0"
      },
      "source": [
        "#### Correct Predictions"
      ]
    },
    {
      "cell_type": "code",
      "metadata": {
        "colab": {
          "base_uri": "https://localhost:8080/",
          "height": 202
        },
        "id": "K7NcUAXWHQYx",
        "outputId": "6b5f4f6c-1cd8-4211-d0f5-b1424dc77485"
      },
      "source": [
        "correct_NAG = print_samples(\n",
        "    analysis_df = svc_hin_a_analysis_df,\n",
        "    mistakes = False,\n",
        "    num_samples =5,\n",
        "    label = 'NAG'\n",
        ")\n",
        "correct_NAG"
      ],
      "execution_count": 74,
      "outputs": [
        {
          "output_type": "execute_result",
          "data": {
            "text/html": [
              "<div>\n",
              "<style scoped>\n",
              "    .dataframe tbody tr th:only-of-type {\n",
              "        vertical-align: middle;\n",
              "    }\n",
              "\n",
              "    .dataframe tbody tr th {\n",
              "        vertical-align: top;\n",
              "    }\n",
              "\n",
              "    .dataframe thead th {\n",
              "        text-align: right;\n",
              "    }\n",
              "</style>\n",
              "<table border=\"1\" class=\"dataframe\">\n",
              "  <thead>\n",
              "    <tr style=\"text-align: right;\">\n",
              "      <th></th>\n",
              "      <th>ID</th>\n",
              "      <th>Text</th>\n",
              "      <th>true</th>\n",
              "      <th>pred</th>\n",
              "    </tr>\n",
              "  </thead>\n",
              "  <tbody>\n",
              "    <tr>\n",
              "      <th>1</th>\n",
              "      <td>C52.39</td>\n",
              "      <td>ladkiyon video</td>\n",
              "      <td>NAG</td>\n",
              "      <td>NAG</td>\n",
              "    </tr>\n",
              "    <tr>\n",
              "      <th>2</th>\n",
              "      <td>C52.73</td>\n",
              "      <td>ki video gahrep</td>\n",
              "      <td>NAG</td>\n",
              "      <td>NAG</td>\n",
              "    </tr>\n",
              "    <tr>\n",
              "      <th>3</th>\n",
              "      <td>C60.3</td>\n",
              "      <td>o sadharon video bhai</td>\n",
              "      <td>NAG</td>\n",
              "      <td>NAG</td>\n",
              "    </tr>\n",
              "    <tr>\n",
              "      <th>4</th>\n",
              "      <td>C60.43</td>\n",
              "      <td>ba bhai kyea bola tum moza aaa giea 😌😌😌😂😂😂</td>\n",
              "      <td>NAG</td>\n",
              "      <td>NAG</td>\n",
              "    </tr>\n",
              "    <tr>\n",
              "      <th>5</th>\n",
              "      <td>C60.72</td>\n",
              "      <td>wah bhai jaliye dili</td>\n",
              "      <td>NAG</td>\n",
              "      <td>NAG</td>\n",
              "    </tr>\n",
              "  </tbody>\n",
              "</table>\n",
              "</div>"
            ],
            "text/plain": [
              "       ID                                        Text true pred\n",
              "1  C52.39                              ladkiyon video  NAG  NAG\n",
              "2  C52.73                             ki video gahrep  NAG  NAG\n",
              "3   C60.3                       o sadharon video bhai  NAG  NAG\n",
              "4  C60.43  ba bhai kyea bola tum moza aaa giea 😌😌😌😂😂😂  NAG  NAG\n",
              "5  C60.72                        wah bhai jaliye dili  NAG  NAG"
            ]
          },
          "metadata": {},
          "execution_count": 74
        }
      ]
    },
    {
      "cell_type": "code",
      "metadata": {
        "colab": {
          "base_uri": "https://localhost:8080/",
          "height": 202
        },
        "id": "4IbzV-3vPNsR",
        "outputId": "e9ba3a6d-866f-4207-9983-f41a3d2c9b3c"
      },
      "source": [
        "correct_OAG = print_samples(\n",
        "    analysis_df = svc_hin_a_analysis_df,\n",
        "    mistakes = False,\n",
        "    num_samples =5,\n",
        "    label = 'OAG'\n",
        ")\n",
        "correct_OAG"
      ],
      "execution_count": 75,
      "outputs": [
        {
          "output_type": "execute_result",
          "data": {
            "text/html": [
              "<div>\n",
              "<style scoped>\n",
              "    .dataframe tbody tr th:only-of-type {\n",
              "        vertical-align: middle;\n",
              "    }\n",
              "\n",
              "    .dataframe tbody tr th {\n",
              "        vertical-align: top;\n",
              "    }\n",
              "\n",
              "    .dataframe thead th {\n",
              "        text-align: right;\n",
              "    }\n",
              "</style>\n",
              "<table border=\"1\" class=\"dataframe\">\n",
              "  <thead>\n",
              "    <tr style=\"text-align: right;\">\n",
              "      <th></th>\n",
              "      <th>ID</th>\n",
              "      <th>Text</th>\n",
              "      <th>true</th>\n",
              "      <th>pred</th>\n",
              "    </tr>\n",
              "  </thead>\n",
              "  <tbody>\n",
              "    <tr>\n",
              "      <th>17</th>\n",
              "      <td>C60.500</td>\n",
              "      <td>chutiya saale</td>\n",
              "      <td>OAG</td>\n",
              "      <td>OAG</td>\n",
              "    </tr>\n",
              "    <tr>\n",
              "      <th>22</th>\n",
              "      <td>C60.708</td>\n",
              "      <td>sare milke pagal banarahahay, bainchod</td>\n",
              "      <td>OAG</td>\n",
              "      <td>OAG</td>\n",
              "    </tr>\n",
              "    <tr>\n",
              "      <th>23</th>\n",
              "      <td>C60.732</td>\n",
              "      <td>ranu mondol sali barochodi sali haram jadi bakar chodhi 😡😡😡😡😡😡😡sali metha\\nbadi...</td>\n",
              "      <td>OAG</td>\n",
              "      <td>OAG</td>\n",
              "    </tr>\n",
              "    <tr>\n",
              "      <th>29</th>\n",
              "      <td>C18.8</td>\n",
              "      <td>film daal de gand mara raha h</td>\n",
              "      <td>OAG</td>\n",
              "      <td>OAG</td>\n",
              "    </tr>\n",
              "    <tr>\n",
              "      <th>37</th>\n",
              "      <td>C18.53.1</td>\n",
              "      <td>@bikram singh abe gandiye padna nhi aata kya....me gaand k neeche deta\\nhu...khaega</td>\n",
              "      <td>OAG</td>\n",
              "      <td>OAG</td>\n",
              "    </tr>\n",
              "  </tbody>\n",
              "</table>\n",
              "</div>"
            ],
            "text/plain": [
              "          ID  ... pred\n",
              "17   C60.500  ...  OAG\n",
              "22   C60.708  ...  OAG\n",
              "23   C60.732  ...  OAG\n",
              "29     C18.8  ...  OAG\n",
              "37  C18.53.1  ...  OAG\n",
              "\n",
              "[5 rows x 4 columns]"
            ]
          },
          "metadata": {},
          "execution_count": 75
        }
      ]
    },
    {
      "cell_type": "code",
      "metadata": {
        "colab": {
          "base_uri": "https://localhost:8080/",
          "height": 218
        },
        "id": "94rAl1uyPUyb",
        "outputId": "eb3ff6e6-39fc-41b2-e9c5-0a1e5a81d6b9"
      },
      "source": [
        "correct_CAG = print_samples(\n",
        "    analysis_df = svc_hin_a_analysis_df,\n",
        "    mistakes = False,\n",
        "    num_samples =5,\n",
        "    label = 'CAG'\n",
        ")\n",
        "correct_CAG"
      ],
      "execution_count": 76,
      "outputs": [
        {
          "output_type": "execute_result",
          "data": {
            "text/html": [
              "<div>\n",
              "<style scoped>\n",
              "    .dataframe tbody tr th:only-of-type {\n",
              "        vertical-align: middle;\n",
              "    }\n",
              "\n",
              "    .dataframe tbody tr th {\n",
              "        vertical-align: top;\n",
              "    }\n",
              "\n",
              "    .dataframe thead th {\n",
              "        text-align: right;\n",
              "    }\n",
              "</style>\n",
              "<table border=\"1\" class=\"dataframe\">\n",
              "  <thead>\n",
              "    <tr style=\"text-align: right;\">\n",
              "      <th></th>\n",
              "      <th>ID</th>\n",
              "      <th>Text</th>\n",
              "      <th>true</th>\n",
              "      <th>pred</th>\n",
              "    </tr>\n",
              "  </thead>\n",
              "  <tbody>\n",
              "    <tr>\n",
              "      <th>59</th>\n",
              "      <td>C24.73</td>\n",
              "      <td>sab faltu hain rape hua h tabhi bolgr</td>\n",
              "      <td>CAG</td>\n",
              "      <td>CAG</td>\n",
              "    </tr>\n",
              "    <tr>\n",
              "      <th>60</th>\n",
              "      <td>C24.78</td>\n",
              "      <td>किसीको कोई हक नहीं की वो किसी और की जिंदगी बरबाद करें, चाहे वह लड़की हो या फिर\\nलड़का हो 1लड़के हमेशा गलत नहीं होते 1 पर गलत इल्जाम लगाकर उन्हें गलत साबित\\nकिया जाता है 1 सबको इज्जत देनी चाहिए 1 कानून का गलत इस्तेमाल नहीं करना चाहिए 1</td>\n",
              "      <td>CAG</td>\n",
              "      <td>CAG</td>\n",
              "    </tr>\n",
              "    <tr>\n",
              "      <th>69</th>\n",
              "      <td>C24.110</td>\n",
              "      <td>ठीक ऐसेही हमारे देश के नौजवानों के साथ साथ हमारे देश के संतों पर भी इस तरह के\\nझुठे केस लगाकर उनको सालों से जेल में रखा जा रहा है....</td>\n",
              "      <td>CAG</td>\n",
              "      <td>CAG</td>\n",
              "    </tr>\n",
              "    <tr>\n",
              "      <th>84</th>\n",
              "      <td>C24.194</td>\n",
              "      <td>after this trailer-  \\nnobody:  \\nliterally nobody:  \\nle some fake feminists - ye sab bakwas hai is movie ko ban karo..</td>\n",
              "      <td>CAG</td>\n",
              "      <td>CAG</td>\n",
              "    </tr>\n",
              "    <tr>\n",
              "      <th>96</th>\n",
              "      <td>C24.286</td>\n",
              "      <td>ladki bechari ban kar kuch bhi kar sakti hai, or ladko ko to bechara banane ka\\nhaq hi nahi hai</td>\n",
              "      <td>CAG</td>\n",
              "      <td>CAG</td>\n",
              "    </tr>\n",
              "  </tbody>\n",
              "</table>\n",
              "</div>"
            ],
            "text/plain": [
              "         ID  ... pred\n",
              "59   C24.73  ...  CAG\n",
              "60   C24.78  ...  CAG\n",
              "69  C24.110  ...  CAG\n",
              "84  C24.194  ...  CAG\n",
              "96  C24.286  ...  CAG\n",
              "\n",
              "[5 rows x 4 columns]"
            ]
          },
          "metadata": {},
          "execution_count": 76
        }
      ]
    },
    {
      "cell_type": "markdown",
      "metadata": {
        "id": "rtw6APxTVq4h"
      },
      "source": [
        "- 96,97"
      ]
    },
    {
      "cell_type": "markdown",
      "metadata": {
        "id": "vorXRi_2U6Qe"
      },
      "source": [
        "#### Incorrect Predictions"
      ]
    },
    {
      "cell_type": "markdown",
      "metadata": {
        "id": "oBnDeRTNfwWk"
      },
      "source": [
        "- NAG class"
      ]
    },
    {
      "cell_type": "code",
      "metadata": {
        "colab": {
          "base_uri": "https://localhost:8080/",
          "height": 268
        },
        "id": "DBAoek9QTnTk",
        "outputId": "0ebcda89-7a14-4ab6-fb13-cf2a65455919"
      },
      "source": [
        "incorrect_nag = print_samples(\n",
        "    analysis_df = svc_hin_a_analysis_df,\n",
        "    mistakes = True,\n",
        "    num_samples=5,\n",
        "    label = 'NAG'\n",
        ")\n",
        "incorrect_nag"
      ],
      "execution_count": 77,
      "outputs": [
        {
          "output_type": "execute_result",
          "data": {
            "text/html": [
              "<div>\n",
              "<style scoped>\n",
              "    .dataframe tbody tr th:only-of-type {\n",
              "        vertical-align: middle;\n",
              "    }\n",
              "\n",
              "    .dataframe tbody tr th {\n",
              "        vertical-align: top;\n",
              "    }\n",
              "\n",
              "    .dataframe thead th {\n",
              "        text-align: right;\n",
              "    }\n",
              "</style>\n",
              "<table border=\"1\" class=\"dataframe\">\n",
              "  <thead>\n",
              "    <tr style=\"text-align: right;\">\n",
              "      <th></th>\n",
              "      <th>ID</th>\n",
              "      <th>Text</th>\n",
              "      <th>true</th>\n",
              "      <th>pred</th>\n",
              "    </tr>\n",
              "  </thead>\n",
              "  <tbody>\n",
              "    <tr>\n",
              "      <th>0</th>\n",
              "      <td>C52.17</td>\n",
              "      <td>ko</td>\n",
              "      <td>NAG</td>\n",
              "      <td>OAG</td>\n",
              "    </tr>\n",
              "    <tr>\n",
              "      <th>45</th>\n",
              "      <td>C18.71.1</td>\n",
              "      <td>feminist nahi hai na isliye humble.</td>\n",
              "      <td>NAG</td>\n",
              "      <td>CAG</td>\n",
              "    </tr>\n",
              "    <tr>\n",
              "      <th>65</th>\n",
              "      <td>C24.101</td>\n",
              "      <td>koi toh hai jo ladko ka bhi soch rha hai varna hamari kya life hai jab dekho\\ntab daar daar ke rehna padta hai ladkiyon se parks me public places me ki khi\\nkoi hamare par jootha iljaam na lga de .</td>\n",
              "      <td>NAG</td>\n",
              "      <td>CAG</td>\n",
              "    </tr>\n",
              "    <tr>\n",
              "      <th>88</th>\n",
              "      <td>C24.214</td>\n",
              "      <td>in fake cases ki wajha se hi asal m jiske sath rape hota he unko insaf nhi\\nmilta kyoki police fake cases m jo busy hoti h jo ki bahot zada hote he\\ncompare to real</td>\n",
              "      <td>NAG</td>\n",
              "      <td>CAG</td>\n",
              "    </tr>\n",
              "    <tr>\n",
              "      <th>89</th>\n",
              "      <td>C24.219</td>\n",
              "      <td>thank u for making this...  \\n  \\n  \\nmera ek sawal hai ek couple relationship mai dono ne agree hoke sex kra dono\\nne wo personal space n time enjoy kiya...  \\n  \\nand future mai kisi waje se shadi nhi ho pa rahi na ladka chayta h ki shadi na\\nho na ladki par aysa ho raha h, so to is baat pe ek ladki kyse ye khe sakti h\\nk he rape pe.  \\n  \\nsex to dono ne kiya na dono ne apni marzi se kiya f...</td>\n",
              "      <td>NAG</td>\n",
              "      <td>CAG</td>\n",
              "    </tr>\n",
              "  </tbody>\n",
              "</table>\n",
              "</div>"
            ],
            "text/plain": [
              "          ID  ... pred\n",
              "0     C52.17  ...  OAG\n",
              "45  C18.71.1  ...  CAG\n",
              "65   C24.101  ...  CAG\n",
              "88   C24.214  ...  CAG\n",
              "89   C24.219  ...  CAG\n",
              "\n",
              "[5 rows x 4 columns]"
            ]
          },
          "metadata": {},
          "execution_count": 77
        }
      ]
    },
    {
      "cell_type": "markdown",
      "metadata": {
        "id": "sW90zQLTVwY2"
      },
      "source": [
        "- 88,why is that NAG (true)"
      ]
    },
    {
      "cell_type": "markdown",
      "metadata": {
        "id": "kP09QlJtfyL0"
      },
      "source": [
        "- OAG class"
      ]
    },
    {
      "cell_type": "code",
      "metadata": {
        "colab": {
          "base_uri": "https://localhost:8080/",
          "height": 252
        },
        "id": "naFR6OkoV4QV",
        "outputId": "ab876ebb-fdea-46b2-db94-1d232f20e068"
      },
      "source": [
        "incorrect_oag = print_samples(\n",
        "    analysis_df = svc_hin_a_analysis_df,\n",
        "    mistakes = True,\n",
        "    num_samples = 5,\n",
        "    label = 'OAG'\n",
        ")\n",
        "incorrect_oag"
      ],
      "execution_count": 78,
      "outputs": [
        {
          "output_type": "execute_result",
          "data": {
            "text/html": [
              "<div>\n",
              "<style scoped>\n",
              "    .dataframe tbody tr th:only-of-type {\n",
              "        vertical-align: middle;\n",
              "    }\n",
              "\n",
              "    .dataframe tbody tr th {\n",
              "        vertical-align: top;\n",
              "    }\n",
              "\n",
              "    .dataframe thead th {\n",
              "        text-align: right;\n",
              "    }\n",
              "</style>\n",
              "<table border=\"1\" class=\"dataframe\">\n",
              "  <thead>\n",
              "    <tr style=\"text-align: right;\">\n",
              "      <th></th>\n",
              "      <th>ID</th>\n",
              "      <th>Text</th>\n",
              "      <th>true</th>\n",
              "      <th>pred</th>\n",
              "    </tr>\n",
              "  </thead>\n",
              "  <tbody>\n",
              "    <tr>\n",
              "      <th>55</th>\n",
              "      <td>C24.45</td>\n",
              "      <td>shame on you bitches and indian justice system... jo ldkiya fake rape case\\nkrti h unko to fansi honi chahiye... real rapist ko turant fansi do lekin fake\\nrape case krne wali ldkiyo pr bhi case honi chahiye inko.</td>\n",
              "      <td>OAG</td>\n",
              "      <td>CAG</td>\n",
              "    </tr>\n",
              "    <tr>\n",
              "      <th>57</th>\n",
              "      <td>C24.59</td>\n",
              "      <td>jab sach me rape hota he toh rapist ki arrest nei karte,lenin jhuthe case me\\ninnocent ko sajja dete he.... that is indian law...</td>\n",
              "      <td>OAG</td>\n",
              "      <td>CAG</td>\n",
              "    </tr>\n",
              "    <tr>\n",
              "      <th>63</th>\n",
              "      <td>C24.92</td>\n",
              "      <td>itna hi khahungi ki har bar ladka ka galti nhi hota ajkl toh ladki hi faltu\\nhai mein bhi ek ladki hu lekin kuch ase harami madchood ladki jnti hu jo b.f\\nbnate hai pessa urake phir dusre ke saat sadhi kar lati hai ase ladkiya\\n******** kesi hai woh sblog jnlo agr b.f ke sat sadhi nhi krni toh pyaar kyu\\nkrte ho motherfucker i think it is the girl who gives chance to boys lol 😈😭😫😅😂</td>\n",
              "      <td>OAG</td>\n",
              "      <td>CAG</td>\n",
              "    </tr>\n",
              "    <tr>\n",
              "      <th>68</th>\n",
              "      <td>C24.104.4</td>\n",
              "      <td>acha ta aa chus le mera ek baar</td>\n",
              "      <td>OAG</td>\n",
              "      <td>NAG</td>\n",
              "    </tr>\n",
              "    <tr>\n",
              "      <th>72</th>\n",
              "      <td>C24.137</td>\n",
              "      <td>nirbhaya kaand un ladkiyon ke saath hona chaiye jo false rape case me ladko ko\\nfasati hai. saali randiyan.</td>\n",
              "      <td>OAG</td>\n",
              "      <td>NAG</td>\n",
              "    </tr>\n",
              "  </tbody>\n",
              "</table>\n",
              "</div>"
            ],
            "text/plain": [
              "           ID  ... pred\n",
              "55     C24.45  ...  CAG\n",
              "57     C24.59  ...  CAG\n",
              "63     C24.92  ...  CAG\n",
              "68  C24.104.4  ...  NAG\n",
              "72    C24.137  ...  NAG\n",
              "\n",
              "[5 rows x 4 columns]"
            ]
          },
          "metadata": {},
          "execution_count": 78
        }
      ]
    },
    {
      "cell_type": "markdown",
      "metadata": {
        "id": "QnnwBPraf0zv"
      },
      "source": [
        "- CAG class"
      ]
    },
    {
      "cell_type": "code",
      "metadata": {
        "colab": {
          "base_uri": "https://localhost:8080/",
          "height": 218
        },
        "id": "7ue9QEK4WNfi",
        "outputId": "e9046e8d-942c-441a-fbb6-f35301387327"
      },
      "source": [
        "incorrect_cag = print_samples(\n",
        "    analysis_df = svc_hin_a_analysis_df,\n",
        "    mistakes=True,\n",
        "    num_samples =5,\n",
        "    label ='CAG'\n",
        ")\n",
        "incorrect_cag"
      ],
      "execution_count": 79,
      "outputs": [
        {
          "output_type": "execute_result",
          "data": {
            "text/html": [
              "<div>\n",
              "<style scoped>\n",
              "    .dataframe tbody tr th:only-of-type {\n",
              "        vertical-align: middle;\n",
              "    }\n",
              "\n",
              "    .dataframe tbody tr th {\n",
              "        vertical-align: top;\n",
              "    }\n",
              "\n",
              "    .dataframe thead th {\n",
              "        text-align: right;\n",
              "    }\n",
              "</style>\n",
              "<table border=\"1\" class=\"dataframe\">\n",
              "  <thead>\n",
              "    <tr style=\"text-align: right;\">\n",
              "      <th></th>\n",
              "      <th>ID</th>\n",
              "      <th>Text</th>\n",
              "      <th>true</th>\n",
              "      <th>pred</th>\n",
              "    </tr>\n",
              "  </thead>\n",
              "  <tbody>\n",
              "    <tr>\n",
              "      <th>28</th>\n",
              "      <td>C18.6</td>\n",
              "      <td>bollywood waly pagal hain varun dhawan jese overactors ko movies de dety hain\\nlekin akshay khanna jesy realistic actors k talent ko use ni krty.  \\nrespect from pakistan</td>\n",
              "      <td>CAG</td>\n",
              "      <td>OAG</td>\n",
              "    </tr>\n",
              "    <tr>\n",
              "      <th>33</th>\n",
              "      <td>C18.30.1</td>\n",
              "      <td>sabit naahi hua.aur kon bola kulbhushan jadhav terrorist hey?</td>\n",
              "      <td>CAG</td>\n",
              "      <td>NAG</td>\n",
              "    </tr>\n",
              "    <tr>\n",
              "      <th>50</th>\n",
              "      <td>C24.6</td>\n",
              "      <td>shatir aurton se saawadh rahe satark rahe...  \\n **janheet mein jaari**</td>\n",
              "      <td>CAG</td>\n",
              "      <td>OAG</td>\n",
              "    </tr>\n",
              "    <tr>\n",
              "      <th>54</th>\n",
              "      <td>C24.27</td>\n",
              "      <td>महिलाओं के लिए महिला आयोग और पुरुषों के लिए कुछ नहीं बस ढकोसला</td>\n",
              "      <td>CAG</td>\n",
              "      <td>NAG</td>\n",
              "    </tr>\n",
              "    <tr>\n",
              "      <th>64</th>\n",
              "      <td>C24.95</td>\n",
              "      <td>yad rakhiye in fake cases me bhi fansane wale kisi ke bete ,kisi bhai, kisi ka\\nhusband hote hai .....</td>\n",
              "      <td>CAG</td>\n",
              "      <td>NAG</td>\n",
              "    </tr>\n",
              "  </tbody>\n",
              "</table>\n",
              "</div>"
            ],
            "text/plain": [
              "          ID  ... pred\n",
              "28     C18.6  ...  OAG\n",
              "33  C18.30.1  ...  NAG\n",
              "50     C24.6  ...  OAG\n",
              "54    C24.27  ...  NAG\n",
              "64    C24.95  ...  NAG\n",
              "\n",
              "[5 rows x 4 columns]"
            ]
          },
          "metadata": {},
          "execution_count": 79
        }
      ]
    },
    {
      "cell_type": "markdown",
      "metadata": {
        "id": "t_fofkWhaTNu"
      },
      "source": [
        "### Task B"
      ]
    },
    {
      "cell_type": "markdown",
      "metadata": {
        "id": "YoZfaqnKgcJe"
      },
      "source": [
        " Model : BERT (pretrained on hi (roman)-en )"
      ]
    },
    {
      "cell_type": "code",
      "metadata": {
        "id": "wDnVi_nNgqW8",
        "colab": {
          "base_uri": "https://localhost:8080/",
          "height": 202
        },
        "outputId": "c5cc8826-5a01-423e-a7e1-3d2ca37d6292"
      },
      "source": [
        "bert_hin_b_analysis_df.head()"
      ],
      "execution_count": 80,
      "outputs": [
        {
          "output_type": "execute_result",
          "data": {
            "text/html": [
              "<div>\n",
              "<style scoped>\n",
              "    .dataframe tbody tr th:only-of-type {\n",
              "        vertical-align: middle;\n",
              "    }\n",
              "\n",
              "    .dataframe tbody tr th {\n",
              "        vertical-align: top;\n",
              "    }\n",
              "\n",
              "    .dataframe thead th {\n",
              "        text-align: right;\n",
              "    }\n",
              "</style>\n",
              "<table border=\"1\" class=\"dataframe\">\n",
              "  <thead>\n",
              "    <tr style=\"text-align: right;\">\n",
              "      <th></th>\n",
              "      <th>ID</th>\n",
              "      <th>Text</th>\n",
              "      <th>true</th>\n",
              "      <th>Unnamed: 0</th>\n",
              "      <th>pred</th>\n",
              "    </tr>\n",
              "  </thead>\n",
              "  <tbody>\n",
              "    <tr>\n",
              "      <th>0</th>\n",
              "      <td>C52.17</td>\n",
              "      <td>ko</td>\n",
              "      <td>NGEN</td>\n",
              "      <td>0</td>\n",
              "      <td>NGEN</td>\n",
              "    </tr>\n",
              "    <tr>\n",
              "      <th>1</th>\n",
              "      <td>C52.39</td>\n",
              "      <td>ladkiyon video</td>\n",
              "      <td>NGEN</td>\n",
              "      <td>1</td>\n",
              "      <td>NGEN</td>\n",
              "    </tr>\n",
              "    <tr>\n",
              "      <th>2</th>\n",
              "      <td>C52.73</td>\n",
              "      <td>ki video gahrep</td>\n",
              "      <td>NGEN</td>\n",
              "      <td>2</td>\n",
              "      <td>NGEN</td>\n",
              "    </tr>\n",
              "    <tr>\n",
              "      <th>3</th>\n",
              "      <td>C60.3</td>\n",
              "      <td>o sadharon video bhai</td>\n",
              "      <td>NGEN</td>\n",
              "      <td>3</td>\n",
              "      <td>NGEN</td>\n",
              "    </tr>\n",
              "    <tr>\n",
              "      <th>4</th>\n",
              "      <td>C60.43</td>\n",
              "      <td>ba bhai kyea bola tum moza aaa giea 😌😌😌😂😂😂</td>\n",
              "      <td>NGEN</td>\n",
              "      <td>4</td>\n",
              "      <td>NGEN</td>\n",
              "    </tr>\n",
              "  </tbody>\n",
              "</table>\n",
              "</div>"
            ],
            "text/plain": [
              "       ID                                        Text  true  Unnamed: 0  pred\n",
              "0  C52.17                                          ko  NGEN           0  NGEN\n",
              "1  C52.39                              ladkiyon video  NGEN           1  NGEN\n",
              "2  C52.73                             ki video gahrep  NGEN           2  NGEN\n",
              "3   C60.3                       o sadharon video bhai  NGEN           3  NGEN\n",
              "4  C60.43  ba bhai kyea bola tum moza aaa giea 😌😌😌😂😂😂  NGEN           4  NGEN"
            ]
          },
          "metadata": {},
          "execution_count": 80
        }
      ]
    },
    {
      "cell_type": "code",
      "metadata": {
        "id": "it7XAIn1ySwP"
      },
      "source": [
        "bert_hin_b_analysis_df = bert_hin_b_analysis_df.iloc[:,[0,1,2,4]]"
      ],
      "execution_count": 85,
      "outputs": []
    },
    {
      "cell_type": "markdown",
      "metadata": {
        "id": "tIBw133rzfT8"
      },
      "source": [
        "#### Correct Predictions"
      ]
    },
    {
      "cell_type": "markdown",
      "metadata": {
        "id": "_4y5AkI40JRB"
      },
      "source": [
        "- NGEN"
      ]
    },
    {
      "cell_type": "code",
      "metadata": {
        "colab": {
          "base_uri": "https://localhost:8080/",
          "height": 202
        },
        "id": "rCpS7KqjzStH",
        "outputId": "d4cd5b85-1bff-4b45-de55-8826922986b1"
      },
      "source": [
        "correct_ngen = print_samples(\n",
        "    analysis_df = bert_hin_b_analysis_df,\n",
        "    mistakes = False,\n",
        "    num_samples =5,\n",
        "    label = 'NGEN'\n",
        ")\n",
        "correct_ngen"
      ],
      "execution_count": 90,
      "outputs": [
        {
          "output_type": "execute_result",
          "data": {
            "text/html": [
              "<div>\n",
              "<style scoped>\n",
              "    .dataframe tbody tr th:only-of-type {\n",
              "        vertical-align: middle;\n",
              "    }\n",
              "\n",
              "    .dataframe tbody tr th {\n",
              "        vertical-align: top;\n",
              "    }\n",
              "\n",
              "    .dataframe thead th {\n",
              "        text-align: right;\n",
              "    }\n",
              "</style>\n",
              "<table border=\"1\" class=\"dataframe\">\n",
              "  <thead>\n",
              "    <tr style=\"text-align: right;\">\n",
              "      <th></th>\n",
              "      <th>ID</th>\n",
              "      <th>Text</th>\n",
              "      <th>true</th>\n",
              "      <th>pred</th>\n",
              "    </tr>\n",
              "  </thead>\n",
              "  <tbody>\n",
              "    <tr>\n",
              "      <th>0</th>\n",
              "      <td>C52.17</td>\n",
              "      <td>ko</td>\n",
              "      <td>NGEN</td>\n",
              "      <td>NGEN</td>\n",
              "    </tr>\n",
              "    <tr>\n",
              "      <th>1</th>\n",
              "      <td>C52.39</td>\n",
              "      <td>ladkiyon video</td>\n",
              "      <td>NGEN</td>\n",
              "      <td>NGEN</td>\n",
              "    </tr>\n",
              "    <tr>\n",
              "      <th>2</th>\n",
              "      <td>C52.73</td>\n",
              "      <td>ki video gahrep</td>\n",
              "      <td>NGEN</td>\n",
              "      <td>NGEN</td>\n",
              "    </tr>\n",
              "    <tr>\n",
              "      <th>3</th>\n",
              "      <td>C60.3</td>\n",
              "      <td>o sadharon video bhai</td>\n",
              "      <td>NGEN</td>\n",
              "      <td>NGEN</td>\n",
              "    </tr>\n",
              "    <tr>\n",
              "      <th>4</th>\n",
              "      <td>C60.43</td>\n",
              "      <td>ba bhai kyea bola tum moza aaa giea 😌😌😌😂😂😂</td>\n",
              "      <td>NGEN</td>\n",
              "      <td>NGEN</td>\n",
              "    </tr>\n",
              "  </tbody>\n",
              "</table>\n",
              "</div>"
            ],
            "text/plain": [
              "       ID                                        Text  true  pred\n",
              "0  C52.17                                          ko  NGEN  NGEN\n",
              "1  C52.39                              ladkiyon video  NGEN  NGEN\n",
              "2  C52.73                             ki video gahrep  NGEN  NGEN\n",
              "3   C60.3                       o sadharon video bhai  NGEN  NGEN\n",
              "4  C60.43  ba bhai kyea bola tum moza aaa giea 😌😌😌😂😂😂  NGEN  NGEN"
            ]
          },
          "metadata": {},
          "execution_count": 90
        }
      ]
    },
    {
      "cell_type": "markdown",
      "metadata": {
        "id": "4tFfPxiO0LdC"
      },
      "source": [
        "- GEN"
      ]
    },
    {
      "cell_type": "code",
      "metadata": {
        "colab": {
          "base_uri": "https://localhost:8080/",
          "height": 202
        },
        "id": "H4k1jVPg0OCJ",
        "outputId": "91a490a4-4901-4d00-fa65-d237e5ce4e9a"
      },
      "source": [
        "correct_gen = print_samples(\n",
        "    analysis_df = bert_hin_b_analysis_df,\n",
        "    mistakes = False,\n",
        "    num_samples =5,\n",
        "    label = 'GEN'\n",
        ")\n",
        "correct_gen"
      ],
      "execution_count": 91,
      "outputs": [
        {
          "output_type": "execute_result",
          "data": {
            "text/html": [
              "<div>\n",
              "<style scoped>\n",
              "    .dataframe tbody tr th:only-of-type {\n",
              "        vertical-align: middle;\n",
              "    }\n",
              "\n",
              "    .dataframe tbody tr th {\n",
              "        vertical-align: top;\n",
              "    }\n",
              "\n",
              "    .dataframe thead th {\n",
              "        text-align: right;\n",
              "    }\n",
              "</style>\n",
              "<table border=\"1\" class=\"dataframe\">\n",
              "  <thead>\n",
              "    <tr style=\"text-align: right;\">\n",
              "      <th></th>\n",
              "      <th>ID</th>\n",
              "      <th>Text</th>\n",
              "      <th>true</th>\n",
              "      <th>pred</th>\n",
              "    </tr>\n",
              "  </thead>\n",
              "  <tbody>\n",
              "    <tr>\n",
              "      <th>38</th>\n",
              "      <td>C18.53.2</td>\n",
              "      <td>tere chahne se duniya chal rhi he kya madarchod</td>\n",
              "      <td>GEN</td>\n",
              "      <td>GEN</td>\n",
              "    </tr>\n",
              "    <tr>\n",
              "      <th>62</th>\n",
              "      <td>C24.91</td>\n",
              "      <td>ye mc dislike krne waale...</td>\n",
              "      <td>GEN</td>\n",
              "      <td>GEN</td>\n",
              "    </tr>\n",
              "    <tr>\n",
              "      <th>68</th>\n",
              "      <td>C24.104.4</td>\n",
              "      <td>acha ta aa chus le mera ek baar</td>\n",
              "      <td>GEN</td>\n",
              "      <td>GEN</td>\n",
              "    </tr>\n",
              "    <tr>\n",
              "      <th>72</th>\n",
              "      <td>C24.137</td>\n",
              "      <td>nirbhaya kaand un ladkiyon ke saath hona chaiye jo false rape case me ladko ko\\nfasati hai. saali randiyan.</td>\n",
              "      <td>GEN</td>\n",
              "      <td>GEN</td>\n",
              "    </tr>\n",
              "    <tr>\n",
              "      <th>74</th>\n",
              "      <td>C24.155.3</td>\n",
              "      <td>but feminism chutiyapa he  \\naur use supportkarne wale madarchod he</td>\n",
              "      <td>GEN</td>\n",
              "      <td>GEN</td>\n",
              "    </tr>\n",
              "  </tbody>\n",
              "</table>\n",
              "</div>"
            ],
            "text/plain": [
              "           ID  ... pred\n",
              "38   C18.53.2  ...  GEN\n",
              "62     C24.91  ...  GEN\n",
              "68  C24.104.4  ...  GEN\n",
              "72    C24.137  ...  GEN\n",
              "74  C24.155.3  ...  GEN\n",
              "\n",
              "[5 rows x 4 columns]"
            ]
          },
          "metadata": {},
          "execution_count": 91
        }
      ]
    },
    {
      "cell_type": "markdown",
      "metadata": {
        "id": "rJuJJsQ2zthS"
      },
      "source": [
        "#### Incorrect Predictions\n"
      ]
    },
    {
      "cell_type": "markdown",
      "metadata": {
        "id": "ez4VL-jxz71k"
      },
      "source": [
        "- GEN class"
      ]
    },
    {
      "cell_type": "code",
      "metadata": {
        "colab": {
          "base_uri": "https://localhost:8080/",
          "height": 218
        },
        "id": "6IHLS0fLzpn9",
        "outputId": "929fa320-4b51-4351-d8e3-ebc0d8895eed"
      },
      "source": [
        "incorrect_gen = print_samples(\n",
        "    analysis_df = bert_hin_b_analysis_df,\n",
        "    mistakes = True,\n",
        "    num_samples =5,\n",
        "    label = 'GEN'\n",
        ")\n",
        "incorrect_gen"
      ],
      "execution_count": 92,
      "outputs": [
        {
          "output_type": "execute_result",
          "data": {
            "text/html": [
              "<div>\n",
              "<style scoped>\n",
              "    .dataframe tbody tr th:only-of-type {\n",
              "        vertical-align: middle;\n",
              "    }\n",
              "\n",
              "    .dataframe tbody tr th {\n",
              "        vertical-align: top;\n",
              "    }\n",
              "\n",
              "    .dataframe thead th {\n",
              "        text-align: right;\n",
              "    }\n",
              "</style>\n",
              "<table border=\"1\" class=\"dataframe\">\n",
              "  <thead>\n",
              "    <tr style=\"text-align: right;\">\n",
              "      <th></th>\n",
              "      <th>ID</th>\n",
              "      <th>Text</th>\n",
              "      <th>true</th>\n",
              "      <th>pred</th>\n",
              "    </tr>\n",
              "  </thead>\n",
              "  <tbody>\n",
              "    <tr>\n",
              "      <th>23</th>\n",
              "      <td>C60.732</td>\n",
              "      <td>ranu mondol sali barochodi sali haram jadi bakar chodhi 😡😡😡😡😡😡😡sali metha\\nbadi...</td>\n",
              "      <td>GEN</td>\n",
              "      <td>NGEN</td>\n",
              "    </tr>\n",
              "    <tr>\n",
              "      <th>50</th>\n",
              "      <td>C24.6</td>\n",
              "      <td>shatir aurton se saawadh rahe satark rahe...  \\n **janheet mein jaari**</td>\n",
              "      <td>GEN</td>\n",
              "      <td>NGEN</td>\n",
              "    </tr>\n",
              "    <tr>\n",
              "      <th>51</th>\n",
              "      <td>C24.16</td>\n",
              "      <td>awesome bhai 90 percent to fake case hote rape k or ldke ki puri zindgi barbad\\nho jaati h</td>\n",
              "      <td>GEN</td>\n",
              "      <td>NGEN</td>\n",
              "    </tr>\n",
              "    <tr>\n",
              "      <th>55</th>\n",
              "      <td>C24.45</td>\n",
              "      <td>shame on you bitches and indian justice system... jo ldkiya fake rape case\\nkrti h unko to fansi honi chahiye... real rapist ko turant fansi do lekin fake\\nrape case krne wali ldkiyo pr bhi case honi chahiye inko.</td>\n",
              "      <td>GEN</td>\n",
              "      <td>NGEN</td>\n",
              "    </tr>\n",
              "    <tr>\n",
              "      <th>56</th>\n",
              "      <td>C24.54</td>\n",
              "      <td>asi juti ladkiyo ko bich chorahe me goli marna cbahiye</td>\n",
              "      <td>GEN</td>\n",
              "      <td>NGEN</td>\n",
              "    </tr>\n",
              "  </tbody>\n",
              "</table>\n",
              "</div>"
            ],
            "text/plain": [
              "         ID  ...  pred\n",
              "23  C60.732  ...  NGEN\n",
              "50    C24.6  ...  NGEN\n",
              "51   C24.16  ...  NGEN\n",
              "55   C24.45  ...  NGEN\n",
              "56   C24.54  ...  NGEN\n",
              "\n",
              "[5 rows x 4 columns]"
            ]
          },
          "metadata": {},
          "execution_count": 92
        }
      ]
    },
    {
      "cell_type": "markdown",
      "metadata": {
        "id": "-zt0vD5A0Yf4"
      },
      "source": [
        "- NGEN class"
      ]
    },
    {
      "cell_type": "code",
      "metadata": {
        "colab": {
          "base_uri": "https://localhost:8080/",
          "height": 252
        },
        "id": "mRupynT00VaB",
        "outputId": "09761448-4d3e-439c-deb7-161e25503318"
      },
      "source": [
        "incorrect_ngen = print_samples(\n",
        "    analysis_df = bert_hin_b_analysis_df,\n",
        "    mistakes = True,\n",
        "    num_samples =5,\n",
        "    label = 'NGEN'\n",
        ")\n",
        "incorrect_ngen"
      ],
      "execution_count": 93,
      "outputs": [
        {
          "output_type": "execute_result",
          "data": {
            "text/html": [
              "<div>\n",
              "<style scoped>\n",
              "    .dataframe tbody tr th:only-of-type {\n",
              "        vertical-align: middle;\n",
              "    }\n",
              "\n",
              "    .dataframe tbody tr th {\n",
              "        vertical-align: top;\n",
              "    }\n",
              "\n",
              "    .dataframe thead th {\n",
              "        text-align: right;\n",
              "    }\n",
              "</style>\n",
              "<table border=\"1\" class=\"dataframe\">\n",
              "  <thead>\n",
              "    <tr style=\"text-align: right;\">\n",
              "      <th></th>\n",
              "      <th>ID</th>\n",
              "      <th>Text</th>\n",
              "      <th>true</th>\n",
              "      <th>pred</th>\n",
              "    </tr>\n",
              "  </thead>\n",
              "  <tbody>\n",
              "    <tr>\n",
              "      <th>37</th>\n",
              "      <td>C18.53.1</td>\n",
              "      <td>@bikram singh abe gandiye padna nhi aata kya....me gaand k neeche deta\\nhu...khaega</td>\n",
              "      <td>NGEN</td>\n",
              "      <td>GEN</td>\n",
              "    </tr>\n",
              "    <tr>\n",
              "      <th>113</th>\n",
              "      <td>C24.387</td>\n",
              "      <td>about amity university case... a lady student filed fake harrassment case so\\nthat she can hide her bad doings... \"are bc kal humne jin bndo ki pitvaya tha\\nvo case kr skte h, chal jldi hum hi harrassment ka case kr aate h\"👌🏼</td>\n",
              "      <td>NGEN</td>\n",
              "      <td>GEN</td>\n",
              "    </tr>\n",
              "    <tr>\n",
              "      <th>126</th>\n",
              "      <td>C24.468</td>\n",
              "      <td>i request all women please aisa mt kia kro innocent logo k sath bcoz apke krn\\nlog sach p belive krna bnd kr dege please dont do this 🙏🙏🙏</td>\n",
              "      <td>NGEN</td>\n",
              "      <td>GEN</td>\n",
              "    </tr>\n",
              "    <tr>\n",
              "      <th>131</th>\n",
              "      <td>C24.503</td>\n",
              "      <td>shonee ji aapsay pehlay bhi meri ek baar baat hui thi ph par aab mien 4 case\\ndv divorce jurisdiction or hc say jeet kar aaya hu aapnay  \\nbalbutay par lawyer kay nahi</td>\n",
              "      <td>NGEN</td>\n",
              "      <td>GEN</td>\n",
              "    </tr>\n",
              "    <tr>\n",
              "      <th>141</th>\n",
              "      <td>C24.558</td>\n",
              "      <td>sons tho poorey gaandu hein.. awaarey hein.. protection ke layak nahin..hein\\nyeh log. hats off to indian constitution</td>\n",
              "      <td>NGEN</td>\n",
              "      <td>GEN</td>\n",
              "    </tr>\n",
              "  </tbody>\n",
              "</table>\n",
              "</div>"
            ],
            "text/plain": [
              "           ID  ... pred\n",
              "37   C18.53.1  ...  GEN\n",
              "113   C24.387  ...  GEN\n",
              "126   C24.468  ...  GEN\n",
              "131   C24.503  ...  GEN\n",
              "141   C24.558  ...  GEN\n",
              "\n",
              "[5 rows x 4 columns]"
            ]
          },
          "metadata": {},
          "execution_count": 93
        }
      ]
    }
  ]
}