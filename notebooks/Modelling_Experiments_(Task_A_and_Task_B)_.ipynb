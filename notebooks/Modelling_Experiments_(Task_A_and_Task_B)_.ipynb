{
  "nbformat": 4,
  "nbformat_minor": 0,
  "metadata": {
    "colab": {
      "name": "Modelling Experiments (Task A and Task B) .ipynb",
      "provenance": [],
      "collapsed_sections": [
        "r8aDpXnd7Jp1",
        "Ia3zSTbHB5U3",
        "lflaM4TN_cWD",
        "WwoVsA9mzYoX",
        "LyJthRk1b7ZI",
        "YCsV6gRVesZP",
        "SYKDF7iUHTc0",
        "vorXRi_2U6Qe",
        "SYkh1gzHjRy4"
      ]
    },
    "kernelspec": {
      "name": "python3",
      "display_name": "Python 3"
    },
    "language_info": {
      "name": "python"
    }
  },
  "cells": [
    {
      "cell_type": "code",
      "metadata": {
        "id": "GZOnOUv2gc4T",
        "colab": {
          "base_uri": "https://localhost:8080/"
        },
        "outputId": "2780455a-ebde-41be-b06a-6443b029e2d1"
      },
      "source": [
        "import pandas as pd\n",
        "import numpy as np\n",
        "import matplotlib.pyplot as plt\n",
        "import seaborn as sns\n",
        "\n",
        "import warnings\n",
        "warnings.filterwarnings(\"ignore\")\n",
        "%matplotlib inline"
      ],
      "execution_count": 12,
      "outputs": [
        {
          "output_type": "stream",
          "name": "stdout",
          "text": [
            "time: 5.43 ms (started: 2021-09-07 03:29:59 +00:00)\n"
          ]
        }
      ]
    },
    {
      "cell_type": "code",
      "metadata": {
        "id": "iE9n5aqNQ1MD",
        "colab": {
          "base_uri": "https://localhost:8080/"
        },
        "outputId": "d584baab-478a-4230-971c-cbf94eed1768"
      },
      "source": [
        "!pip install -qq ipython-autotime\n",
        "\n",
        "%load_ext autotime"
      ],
      "execution_count": 13,
      "outputs": [
        {
          "output_type": "stream",
          "name": "stdout",
          "text": [
            "The autotime extension is already loaded. To reload it, use:\n",
            "  %reload_ext autotime\n",
            "time: 2.94 s (started: 2021-09-07 03:30:07 +00:00)\n"
          ]
        }
      ]
    },
    {
      "cell_type": "markdown",
      "metadata": {
        "id": "D8Eud7Z40zsU"
      },
      "source": [
        "### Wrapper for applying different models and vectorizers\n",
        "\n"
      ]
    },
    {
      "cell_type": "code",
      "metadata": {
        "colab": {
          "base_uri": "https://localhost:8080/"
        },
        "id": "1Z-NX_Ft2cp2",
        "outputId": "cc69cfd3-7d46-4729-c283-55988e558d50"
      },
      "source": [
        "import nltk\n",
        "nltk.download('punkt')\n",
        "\n",
        "from sklearn.linear_model import LogisticRegression\n",
        "from sklearn import naive_bayes\n",
        "from sklearn import metrics\n",
        "from sklearn import model_selection\n",
        "from sklearn.feature_extraction.text import CountVectorizer\n",
        "from sklearn.feature_extraction.text import TfidfVectorizer\n",
        "from sklearn.model_selection import train_test_split\n",
        "from nltk.tokenize import word_tokenize"
      ],
      "execution_count": 1,
      "outputs": [
        {
          "output_type": "stream",
          "name": "stdout",
          "text": [
            "[nltk_data] Downloading package punkt to /root/nltk_data...\n",
            "[nltk_data]   Unzipping tokenizers/punkt.zip.\n"
          ]
        }
      ]
    },
    {
      "cell_type": "code",
      "metadata": {
        "colab": {
          "base_uri": "https://localhost:8080/"
        },
        "id": "zEe5ri5ub0nA",
        "outputId": "843de3d4-5f0b-444e-9e64-04297185281d"
      },
      "source": [
        "import pickle"
      ],
      "execution_count": 43,
      "outputs": [
        {
          "output_type": "stream",
          "name": "stdout",
          "text": [
            "time: 1.18 ms (started: 2021-09-07 04:06:14 +00:00)\n"
          ]
        }
      ]
    },
    {
      "cell_type": "code",
      "metadata": {
        "colab": {
          "base_uri": "https://localhost:8080/"
        },
        "id": "kqVGbseUbfY3",
        "outputId": "819274c3-5922-452e-fb02-8bc653e85ded"
      },
      "source": [
        "def save_model(clf,task,model,vec):\n",
        "\n",
        "  \"\"\"\n",
        "  Util function to save model to a pickle file\n",
        "  --------------------------\n",
        "\n",
        "  Params:\n",
        "  clf   - trained model\n",
        "  model - technique used ['LR','NB,'SVC']\n",
        "  vec - vectorizer used ['CV','TFIDF']\n",
        "\n",
        "  Return:\n",
        "  modelfile - pickle file\n",
        "\n",
        "  \"\"\"\n",
        "  \n",
        "  filename = model + '_'+ vec + '_' + task  \n",
        "  modelfile = filename + '.pkl'\n",
        "  pickle.dump(clf,open(modelfile,'wb'))\n",
        "  return modelfile"
      ],
      "execution_count": 47,
      "outputs": [
        {
          "output_type": "stream",
          "name": "stdout",
          "text": [
            "time: 4.49 ms (started: 2021-09-07 04:24:00 +00:00)\n"
          ]
        }
      ]
    },
    {
      "cell_type": "code",
      "metadata": {
        "colab": {
          "base_uri": "https://localhost:8080/"
        },
        "id": "gsntjN-JYGFX",
        "outputId": "efa20c84-b510-45ff-df26-a5b059b17165"
      },
      "source": [
        "def save_prediction(pkl,task,model,vec):\n",
        "\n",
        "  \"\"\"\n",
        "  util function to save predictions to a csv file\n",
        "  -----------------------------------------------\n",
        "  Parameters:\n",
        "  modelfile - pkl file of saved model\n",
        "\n",
        "  Return:\n",
        "  csv : predictions\n",
        "\n",
        "  \"\"\"\n",
        "  test = pd.read_csv('trac2_hin_test.csv')\n",
        "  \n",
        "  clf = pickle.load(open(pkl,'rb'))\n",
        "  preds = clf.predict(test.Text)\n",
        "  \n",
        "  preds_df = pd.DataFrame(preds,columns = ['Label'])\n",
        "  preds_df['ID'] = test['ID']\n",
        "  print(preds_df)\n",
        "  \n",
        "  if task=='a':\n",
        "    task_id2labels = {1:'OAG',2:'CAG',0:'NAG'}\n",
        "  elif task=='b':\n",
        "    task_id2labels = {0:'NGEN',1:'GEN'}\n",
        "\n",
        "  preds_df = preds_df.replace({'Label':task_id2labels})\n",
        "  \n",
        "  csvfile = model + '_'+ vec + '_' + task + '.csv'\n",
        "  preds_df.to_csv(csvfile)"
      ],
      "execution_count": 96,
      "outputs": [
        {
          "output_type": "stream",
          "name": "stdout",
          "text": [
            "time: 10.8 ms (started: 2021-09-07 05:45:55 +00:00)\n"
          ]
        }
      ]
    },
    {
      "cell_type": "code",
      "metadata": {
        "id": "GeKOOkl9Gsiu"
      },
      "source": [
        "def labelencoder():\n",
        "\n",
        "  \"\"\"\n",
        "  Creates and returns label encoders for each task.\n",
        "\n",
        "  Returns:\n",
        "          task_labels (dict): label encoder dict of the given input task\n",
        "  \"\"\"\n",
        "  \n",
        "  task_a_labels = {'NAG':0,'OAG':1,'CAG':2}\n",
        "  \n",
        "  task_b_labels = {'NGEN':0,'GEN':1}\n",
        "\n",
        "  return task_a_labels,task_b_labels"
      ],
      "execution_count": 2,
      "outputs": []
    },
    {
      "cell_type": "code",
      "metadata": {
        "id": "WE_r3RCE7kUZ"
      },
      "source": [
        "def get_vec(vectorizer):\n",
        "\n",
        "  \"\"\"\n",
        "  Returns the vectorizer based on input\n",
        "\n",
        "  Parameters:\n",
        "          vectorizer(str): Type of vectorizer\n",
        "\n",
        "  Returns:\n",
        "          vec: instatiates vectorizer class\n",
        "  \"\"\"\n",
        "\n",
        "  if vectorizer == \"CV\":\n",
        "    vec = CountVectorizer(tokenizer=word_tokenize)\n",
        "  \n",
        "  elif vectorizer == \"TFIDF\":\n",
        "    vec = TfidfVectorizer(tokenizer=word_tokenize,ngram_range=(1,3))\n",
        "\n",
        "  else:\n",
        "    raise ValueError(\"Vectorizer not found!\")\n",
        "  \n",
        "  return vec"
      ],
      "execution_count": 3,
      "outputs": []
    },
    {
      "cell_type": "code",
      "metadata": {
        "id": "uWxwPKB1Pwk_"
      },
      "source": [
        "from sklearn import svm"
      ],
      "execution_count": 4,
      "outputs": []
    },
    {
      "cell_type": "code",
      "metadata": {
        "id": "loljQeJy71FE"
      },
      "source": [
        "def get_model(Model):\n",
        "\n",
        "  \"\"\"\n",
        "  Returns the model based on input\n",
        "\n",
        "  Parameters:\n",
        "          model(str): Type of Model\n",
        "\n",
        "  Returns:\n",
        "          model: Model class\n",
        "  \"\"\"\n",
        "\n",
        "  if Model == \"LR\":\n",
        "    model = LogisticRegression()\n",
        "    \n",
        "  elif Model == \"NB\":\n",
        "    model = naive_bayes.MultinomialNB()\n",
        "  elif Model == \"SVC\":\n",
        "    model = svm.SVC(kernel='linear')\n",
        "  else:\n",
        "    raise ValueError(\"Model not found!\")\n",
        "\n",
        "  return model\n"
      ],
      "execution_count": 5,
      "outputs": []
    },
    {
      "cell_type": "code",
      "metadata": {
        "colab": {
          "base_uri": "https://localhost:8080/"
        },
        "id": "bQhDXczt0yqI",
        "outputId": "2fc62ec0-a4b1-4ed8-a0ce-03f935282960"
      },
      "source": [
        "def BaselineModel(task,Model='LR',vectorizer='CV',path_to_data='trac2_hin_train.csv'):\n",
        "\n",
        "  \"\"\"\n",
        "  Create Baseline Models using different vectorizers on different ML models\n",
        "  and prints the classifcation report\n",
        "  \n",
        "  Parameters:\n",
        "          path_to_data(str): data file path \n",
        "          Model (str) : model type\n",
        "                      - LR : Logistic Regression\n",
        "                      - NB : Naive Bayes\n",
        "                         \n",
        "          vectorizer (str) : vectorizer type\n",
        "                      - CV : Count Vectorizer\n",
        "                      - TFIDf : TfIdf Vectorizer\n",
        "\n",
        "  Returns:\n",
        "          model : trained model on the data\n",
        "\n",
        "  \"\"\"\n",
        "  \n",
        "  model_dict = {\"LR\":\"Logistic Regression\",\"NB\":\"Naive Bayes\"}\n",
        "  vec_dict = {\"CV\":\"CountVectorizer\",\"TFIDF\":\"TfidfVectorizer\"}\n",
        "  task_dict = {\"A\": \"Aggresive Text Classification\",\"B\":\"Gendered Text Classification\"}\n",
        "  \n",
        "  data = pd.read_csv(path_to_data)\n",
        "  data.columns = ['ID','Text','aggressive','gendered']\n",
        "\n",
        "  task_a_labels,task_b_labels  = labelencoder()\n",
        "\n",
        "  data = data.replace({'aggressive':task_a_labels,'gendered':task_b_labels})\n",
        "  \n",
        "  if task == \"A\":\n",
        "    target = 'aggressive'\n",
        "  elif task == \"B\":\n",
        "    target = 'gendered'\n",
        "  else:\n",
        "    raise ValueError(\"Task not found\")\n",
        "\n",
        "  x_train,x_test,y_train,y_test = train_test_split(data['Text'],data[target],stratify=data[target],random_state=21)  \n",
        "\n",
        "  vec = get_vec(vectorizer)\n",
        "\n",
        "  vec.fit(x_train)\n",
        "\n",
        "  x_train_cv = vec.transform(x_train)\n",
        "  x_test_cv = vec.transform(x_test)\n",
        "\n",
        "  model = get_model(Model)\n",
        "\n",
        "  model.fit(x_train_cv,y_train)\n",
        "\n",
        "  preds = model.predict(x_test_cv)\n",
        "\n",
        "  report = metrics.classification_report(y_test,preds)\n",
        "  print(model_dict[Model] + \" with \" + vec_dict[vectorizer])\n",
        "  print(\"\\n\")\n",
        "  print(report)\n",
        "\n",
        "  return model,vec"
      ],
      "execution_count": null,
      "outputs": [
        {
          "output_type": "stream",
          "name": "stdout",
          "text": [
            "time: 31.7 ms (started: 2021-09-05 03:52:34 +00:00)\n"
          ]
        }
      ]
    },
    {
      "cell_type": "code",
      "metadata": {
        "colab": {
          "base_uri": "https://localhost:8080/"
        },
        "id": "1xSfqYn1PWvc",
        "outputId": "4a951555-24b5-4c50-9ff0-45b62b27484a"
      },
      "source": [
        "def BaselineModelTest(task,Model='LR',vectorizer='CV',path_to_data='trac2_hin_train.csv'):\n",
        "\n",
        "  \"\"\"\n",
        "  Create Baseline Models using different vectorizers on different ML models\n",
        "  and prints the classifcation report\n",
        "  \n",
        "  Parameters:\n",
        "          path_to_data(str): data file path \n",
        "          Model (str) : model type\n",
        "                      - LR : Logistic Regression\n",
        "                      - NB : Naive Bayes\n",
        "                         \n",
        "          vectorizer (str) : vectorizer type\n",
        "                      - CV : Count Vectorizer\n",
        "                      - TFIDf : TfIdf Vectorizer\n",
        "\n",
        "  Returns:\n",
        "          model : trained model on the data\n",
        "\n",
        "  \"\"\"\n",
        "  \n",
        "  model_dict = {\"LR\":\"Logistic Regression\",\"NB\":\"Naive Bayes\",\"SVC\": \"SVM Classifier\"}\n",
        "  vec_dict = {\"CV\":\"CountVectorizer\",\"TFIDF\":\"TfidfVectorizer\"}\n",
        "  task_dict = {\"A\": \"Aggresive Text Classification\",\"B\":\"Gendered Text Classification\"}\n",
        "  \n",
        "  data = pd.read_csv(path_to_data)\n",
        "  data.columns = ['ID','Text','aggressive','gendered']\n",
        "\n",
        "  task_a_labels,task_b_labels  = labelencoder()\n",
        "\n",
        "  data = data.replace({'aggressive':task_a_labels,'gendered':task_b_labels})\n",
        "  \n",
        "  if task == \"A\":\n",
        "    target = 'aggressive'\n",
        "  elif task == \"B\":\n",
        "    target = 'gendered'\n",
        "  else:\n",
        "    raise ValueError(\"Task not found\")\n",
        "   \n",
        "  #data['Text'] = data['Text'].apply(preprocess_text)\n",
        "\n",
        "  x_train,x_test,y_train,y_test = train_test_split(data['Text'],data[target],stratify=data[target],random_state=21)  \n",
        "\n",
        "  vec = get_vec(vectorizer)\n",
        "\n",
        "  vec.fit(x_train)\n",
        "\n",
        "  x_train_cv = vec.transform(x_train)\n",
        "  x_test_cv = vec.transform(x_test)\n",
        "\n",
        "  model = get_model(Model)\n",
        "\n",
        "  model.fit(x_train_cv,y_train)\n",
        "\n",
        "  preds = model.predict(x_test_cv)\n",
        "\n",
        "  report = metrics.classification_report(y_test,preds)\n",
        "  print(model_dict[Model] + \" with \" + vec_dict[vectorizer])\n",
        "  print(\"\\n\")\n",
        "  print(report)\n",
        "\n",
        "  return model,vec"
      ],
      "execution_count": 15,
      "outputs": [
        {
          "output_type": "stream",
          "name": "stdout",
          "text": [
            "time: 41.7 ms (started: 2021-09-07 03:31:30 +00:00)\n"
          ]
        }
      ]
    },
    {
      "cell_type": "code",
      "metadata": {
        "colab": {
          "base_uri": "https://localhost:8080/"
        },
        "id": "7AuTq75pD7k-",
        "outputId": "ab24c2a2-d9de-46e7-866b-116c1bc4918f"
      },
      "source": [
        "def BaselineEvaluate(task,model,vec):\n",
        "\n",
        "  \"\"\"\n",
        "  Evaluate the models on Dev and Test sets and prints the classification report\n",
        "  \n",
        "  Parameters:\n",
        "          path_to_testdata (str): testdata file path \n",
        "          model  : trained model\n",
        "  \n",
        "  \"\"\"\n",
        " \n",
        "  dev_data = pd.read_csv(path_to_testdata)\n",
        "  task_a_labels,task_b_labels  = labelencoder()\n",
        "  dev_data = dev_data.replace({'Sub-task A':task_a_labels,'Sub-task B':task_b_labels})\n",
        "  \n",
        "  #dev_data['Text'] = dev_data['Text'].apply(preprocess_text)\n",
        "  x_dev = vec.transform(dev_data['Text'])\n",
        "  dev_preds = model.predict(x_dev)\n",
        "  \n",
        "  if task == \"A\":\n",
        "    col = 'Sub-task A'\n",
        "\n",
        "  elif task == \"B\":\n",
        "    col = 'Sub-task B'\n",
        "\n",
        "  else:\n",
        "    raise ValueError(\"Task not found\")\n",
        "\n",
        "\n",
        "  dev_report = metrics.classification_report(dev_data[col],dev_preds)\n",
        "  print(dev_report)"
      ],
      "execution_count": null,
      "outputs": [
        {
          "output_type": "stream",
          "name": "stdout",
          "text": [
            "time: 13.4 ms (started: 2021-09-05 04:00:23 +00:00)\n"
          ]
        }
      ]
    },
    {
      "cell_type": "code",
      "metadata": {
        "colab": {
          "base_uri": "https://localhost:8080/",
          "height": 220
        },
        "id": "5Fbv85kq3ZBv",
        "outputId": "95d64770-5860-48b4-beda-a8d0a0ad8bdb"
      },
      "source": [
        "tt = pd.read_csv('trac2_hin_gold_b.csv')\n",
        "tt.head()"
      ],
      "execution_count": null,
      "outputs": [
        {
          "output_type": "execute_result",
          "data": {
            "text/html": [
              "<div>\n",
              "<style scoped>\n",
              "    .dataframe tbody tr th:only-of-type {\n",
              "        vertical-align: middle;\n",
              "    }\n",
              "\n",
              "    .dataframe tbody tr th {\n",
              "        vertical-align: top;\n",
              "    }\n",
              "\n",
              "    .dataframe thead th {\n",
              "        text-align: right;\n",
              "    }\n",
              "</style>\n",
              "<table border=\"1\" class=\"dataframe\">\n",
              "  <thead>\n",
              "    <tr style=\"text-align: right;\">\n",
              "      <th></th>\n",
              "      <th>ID</th>\n",
              "      <th>Sub-task B</th>\n",
              "    </tr>\n",
              "  </thead>\n",
              "  <tbody>\n",
              "    <tr>\n",
              "      <th>0</th>\n",
              "      <td>C52.17</td>\n",
              "      <td>NGEN</td>\n",
              "    </tr>\n",
              "    <tr>\n",
              "      <th>1</th>\n",
              "      <td>C52.39</td>\n",
              "      <td>NGEN</td>\n",
              "    </tr>\n",
              "    <tr>\n",
              "      <th>2</th>\n",
              "      <td>C52.73</td>\n",
              "      <td>NGEN</td>\n",
              "    </tr>\n",
              "    <tr>\n",
              "      <th>3</th>\n",
              "      <td>C60.3</td>\n",
              "      <td>NGEN</td>\n",
              "    </tr>\n",
              "    <tr>\n",
              "      <th>4</th>\n",
              "      <td>C60.43</td>\n",
              "      <td>NGEN</td>\n",
              "    </tr>\n",
              "  </tbody>\n",
              "</table>\n",
              "</div>"
            ],
            "text/plain": [
              "       ID Sub-task B\n",
              "0  C52.17       NGEN\n",
              "1  C52.39       NGEN\n",
              "2  C52.73       NGEN\n",
              "3   C60.3       NGEN\n",
              "4  C60.43       NGEN"
            ]
          },
          "metadata": {},
          "execution_count": 40
        },
        {
          "output_type": "stream",
          "name": "stdout",
          "text": [
            "time: 22.1 ms (started: 2021-09-04 17:31:54 +00:00)\n"
          ]
        }
      ]
    },
    {
      "cell_type": "code",
      "metadata": {
        "colab": {
          "base_uri": "https://localhost:8080/"
        },
        "id": "bMEhbZkD1ePQ",
        "outputId": "5d2f23fb-c066-4565-b811-bb5317752b91"
      },
      "source": [
        "def BaselineEvaluateTest(task,model,vec,eval='dev'):\n",
        "  \n",
        "  \"\"\"\n",
        "  Evaluate the models on Dev and Test sets and prints the classification report\n",
        "  \n",
        "  Parameters: \n",
        "          task (str) : Type of Task\n",
        "                      - A\n",
        "                      - B\n",
        "          eval (str) : evaluation set\n",
        "                      - 'dev' (default)\n",
        "                      - 'test'\n",
        "          model  : trained model\n",
        "          vec : tokenizer\n",
        "  \n",
        "  \"\"\"\n",
        "  task_a_labels,task_b_labels  = labelencoder()\n",
        "\n",
        "  if task == \"A\":\n",
        "    col = 'Sub-task A'\n",
        "  elif task == \"B\":\n",
        "    col = 'Sub-task B'\n",
        "  else:\n",
        "    raise ValueError(\"Task not found\")\n",
        "\n",
        "  if eval == 'dev':\n",
        "    print(\"Dev set evaluation report\")\n",
        "    path_to_data ='trac2_hin_dev.csv'\n",
        "  elif eval == \"test\":\n",
        "    print(\"Test set evaluation report\")\n",
        "    path_to_data = 'trac2_hin_test.csv'\n",
        "    path_to_labels = 'trac2_hin_gold_' + task.lower() + '.csv' \n",
        "    test_labels = pd.read_csv(path_to_labels)\n",
        "    test_labels = test_labels.replace({'Sub-task A':task_a_labels,'Sub-task B':task_b_labels})\n",
        "  else:\n",
        "    raise ValueError(\"eval type not found\")\n",
        "  \n",
        "  eval_data = pd.read_csv(path_to_data)\n",
        "  eval_data = eval_data.replace({'Sub-task A':task_a_labels,'Sub-task B':task_b_labels})\n",
        "  \n",
        "  x_eval = vec.transform(eval_data['Text'])\n",
        "  eval_preds = model.predict(x_eval)\n",
        "  \n",
        "  if eval==\"test\":\n",
        "    \n",
        "    eval_report = metrics.classification_report(test_labels[col],eval_preds)\n",
        "  else:\n",
        "   \n",
        "    eval_report = metrics.classification_report(eval_data[col],eval_preds)\n",
        "  print(eval_report)"
      ],
      "execution_count": 67,
      "outputs": [
        {
          "output_type": "stream",
          "name": "stdout",
          "text": [
            "time: 27.2 ms (started: 2021-09-07 04:40:14 +00:00)\n"
          ]
        }
      ]
    },
    {
      "cell_type": "markdown",
      "metadata": {
        "id": "r8aDpXnd7Jp1"
      },
      "source": [
        "### Task B Modelling"
      ]
    },
    {
      "cell_type": "markdown",
      "metadata": {
        "id": "Ia3zSTbHB5U3"
      },
      "source": [
        "#### Logistic Regression Models"
      ]
    },
    {
      "cell_type": "code",
      "metadata": {
        "colab": {
          "base_uri": "https://localhost:8080/"
        },
        "id": "LXGvhM61-xTg",
        "outputId": "c7dbe512-6e34-4873-9b1b-997a05310073"
      },
      "source": [
        "model,vec = BaselineModelTest('B','LR','CV')"
      ],
      "execution_count": 83,
      "outputs": [
        {
          "output_type": "stream",
          "name": "stdout",
          "text": [
            "Logistic Regression with CountVectorizer\n",
            "\n",
            "\n",
            "              precision    recall  f1-score   support\n",
            "\n",
            "           0       0.89      0.98      0.93       831\n",
            "           1       0.79      0.37      0.50       165\n",
            "\n",
            "    accuracy                           0.88       996\n",
            "   macro avg       0.84      0.68      0.72       996\n",
            "weighted avg       0.87      0.88      0.86       996\n",
            "\n",
            "time: 1.79 s (started: 2021-09-07 05:17:59 +00:00)\n"
          ]
        }
      ]
    },
    {
      "cell_type": "code",
      "metadata": {
        "colab": {
          "base_uri": "https://localhost:8080/"
        },
        "id": "d7YSQtd6N0am",
        "outputId": "3e7e4a1d-c782-4966-e5cc-cde710dff453"
      },
      "source": [
        "BaselineEvaluateTest('B',model,vec,'dev')"
      ],
      "execution_count": 81,
      "outputs": [
        {
          "output_type": "stream",
          "name": "stdout",
          "text": [
            "Dev set evaluation report\n",
            "              precision    recall  f1-score   support\n",
            "\n",
            "           0       0.89      0.96      0.92       845\n",
            "           1       0.62      0.33      0.43       152\n",
            "\n",
            "    accuracy                           0.87       997\n",
            "   macro avg       0.75      0.65      0.68       997\n",
            "weighted avg       0.85      0.87      0.85       997\n",
            "\n",
            "time: 240 ms (started: 2021-09-07 04:54:46 +00:00)\n"
          ]
        }
      ]
    },
    {
      "cell_type": "code",
      "metadata": {
        "colab": {
          "base_uri": "https://localhost:8080/"
        },
        "id": "g4A8TgaW09fP",
        "outputId": "c3e3ddaf-de13-4de6-c1f5-b5762f6025bd"
      },
      "source": [
        "BaselineEvaluateTest('B',model,vec,'test')"
      ],
      "execution_count": 82,
      "outputs": [
        {
          "output_type": "stream",
          "name": "stdout",
          "text": [
            "Test set evaluation report\n",
            "              precision    recall  f1-score   support\n",
            "\n",
            "           0       0.70      0.93      0.80       633\n",
            "           1       0.87      0.57      0.69       567\n",
            "\n",
            "    accuracy                           0.76      1200\n",
            "   macro avg       0.79      0.75      0.74      1200\n",
            "weighted avg       0.78      0.76      0.75      1200\n",
            "\n",
            "time: 326 ms (started: 2021-09-07 04:54:49 +00:00)\n"
          ]
        }
      ]
    },
    {
      "cell_type": "code",
      "metadata": {
        "colab": {
          "base_uri": "https://localhost:8080/"
        },
        "id": "hh-2rFGjr_yT",
        "outputId": "36500b7b-699a-4506-a620-1718c1df6d5c"
      },
      "source": [
        "lr_b_pkl = save_model(model,'b','lr','cv')"
      ],
      "execution_count": 97,
      "outputs": [
        {
          "output_type": "stream",
          "name": "stdout",
          "text": [
            "time: 2.83 ms (started: 2021-09-07 05:46:49 +00:00)\n"
          ]
        }
      ]
    },
    {
      "cell_type": "code",
      "metadata": {
        "id": "YHfXEEDIseeL"
      },
      "source": [
        "save_prediction(lr_b_pkl,'b','lr','cv')"
      ],
      "execution_count": null,
      "outputs": []
    },
    {
      "cell_type": "code",
      "metadata": {
        "colab": {
          "base_uri": "https://localhost:8080/"
        },
        "id": "mLt-u7VaAdD8",
        "outputId": "50cd5859-4caa-4d8d-b27a-d9f4862aed4c"
      },
      "source": [
        "model,vec = BaselineModelTest('B','LR','TFIDF')"
      ],
      "execution_count": 71,
      "outputs": [
        {
          "output_type": "stream",
          "name": "stdout",
          "text": [
            "Logistic Regression with TfidfVectorizer\n",
            "\n",
            "\n",
            "              precision    recall  f1-score   support\n",
            "\n",
            "           0       0.84      1.00      0.91       831\n",
            "           1       0.88      0.04      0.08       165\n",
            "\n",
            "    accuracy                           0.84       996\n",
            "   macro avg       0.86      0.52      0.50       996\n",
            "weighted avg       0.85      0.84      0.77       996\n",
            "\n",
            "time: 2.72 s (started: 2021-09-07 04:41:11 +00:00)\n"
          ]
        }
      ]
    },
    {
      "cell_type": "code",
      "metadata": {
        "colab": {
          "base_uri": "https://localhost:8080/"
        },
        "id": "L8x6NBQ5PBgp",
        "outputId": "43039bd3-8e01-43f7-e42f-6e070ebf7ac2"
      },
      "source": [
        "BaselineEvaluateTest('B',model,vec)"
      ],
      "execution_count": 72,
      "outputs": [
        {
          "output_type": "stream",
          "name": "stdout",
          "text": [
            "Dev set evaluation report\n",
            "              precision    recall  f1-score   support\n",
            "\n",
            "           0       0.85      1.00      0.92       845\n",
            "           1       1.00      0.03      0.05       152\n",
            "\n",
            "    accuracy                           0.85       997\n",
            "   macro avg       0.93      0.51      0.49       997\n",
            "weighted avg       0.87      0.85      0.79       997\n",
            "\n",
            "time: 274 ms (started: 2021-09-07 04:41:21 +00:00)\n"
          ]
        }
      ]
    },
    {
      "cell_type": "code",
      "metadata": {
        "colab": {
          "base_uri": "https://localhost:8080/"
        },
        "id": "MGu_GIHr7cN5",
        "outputId": "fb6054f4-caa6-4317-c97d-eb9cee8981e0"
      },
      "source": [
        "BaselineEvaluateTest('B',model,vec,'test')"
      ],
      "execution_count": 73,
      "outputs": [
        {
          "output_type": "stream",
          "name": "stdout",
          "text": [
            "Test set evaluation report\n",
            "              precision    recall  f1-score   support\n",
            "\n",
            "           0       0.55      1.00      0.71       633\n",
            "           1       0.95      0.10      0.19       567\n",
            "\n",
            "    accuracy                           0.57      1200\n",
            "   macro avg       0.75      0.55      0.45      1200\n",
            "weighted avg       0.74      0.57      0.46      1200\n",
            "\n",
            "time: 389 ms (started: 2021-09-07 04:41:26 +00:00)\n"
          ]
        }
      ]
    },
    {
      "cell_type": "markdown",
      "metadata": {
        "id": "C9RDMzVjB81h"
      },
      "source": [
        "#### NaiveBayesModels"
      ]
    },
    {
      "cell_type": "code",
      "metadata": {
        "colab": {
          "base_uri": "https://localhost:8080/"
        },
        "id": "_Bag_RAHB4rq",
        "outputId": "31496e71-c275-436c-ae56-de249f97f46b"
      },
      "source": [
        "model,vec = BaselineModelTest('B','NB','CV')"
      ],
      "execution_count": 74,
      "outputs": [
        {
          "output_type": "stream",
          "name": "stdout",
          "text": [
            "Naive Bayes with CountVectorizer\n",
            "\n",
            "\n",
            "              precision    recall  f1-score   support\n",
            "\n",
            "           0       0.86      0.97      0.92       831\n",
            "           1       0.63      0.22      0.33       165\n",
            "\n",
            "    accuracy                           0.85       996\n",
            "   macro avg       0.75      0.60      0.62       996\n",
            "weighted avg       0.82      0.85      0.82       996\n",
            "\n",
            "time: 1.46 s (started: 2021-09-07 04:41:34 +00:00)\n"
          ]
        }
      ]
    },
    {
      "cell_type": "code",
      "metadata": {
        "colab": {
          "base_uri": "https://localhost:8080/"
        },
        "id": "_EK1gaLBP0tH",
        "outputId": "821f49a4-7a9e-464f-fae7-81ab00d5e1d6"
      },
      "source": [
        "BaselineEvaluateTest('B',model,vec)"
      ],
      "execution_count": 75,
      "outputs": [
        {
          "output_type": "stream",
          "name": "stdout",
          "text": [
            "Dev set evaluation report\n",
            "              precision    recall  f1-score   support\n",
            "\n",
            "           0       0.87      0.98      0.92       845\n",
            "           1       0.68      0.20      0.31       152\n",
            "\n",
            "    accuracy                           0.86       997\n",
            "   macro avg       0.78      0.59      0.62       997\n",
            "weighted avg       0.84      0.86      0.83       997\n",
            "\n",
            "time: 219 ms (started: 2021-09-07 04:41:38 +00:00)\n"
          ]
        }
      ]
    },
    {
      "cell_type": "code",
      "metadata": {
        "colab": {
          "base_uri": "https://localhost:8080/"
        },
        "id": "u3AgAFjz7xHI",
        "outputId": "c2c1984a-355c-4d39-8733-ff1de860d5e2"
      },
      "source": [
        "BaselineEvaluateTest('B',model,vec,'test')"
      ],
      "execution_count": 76,
      "outputs": [
        {
          "output_type": "stream",
          "name": "stdout",
          "text": [
            "Test set evaluation report\n",
            "              precision    recall  f1-score   support\n",
            "\n",
            "           0       0.65      0.95      0.77       633\n",
            "           1       0.89      0.42      0.57       567\n",
            "\n",
            "    accuracy                           0.70      1200\n",
            "   macro avg       0.77      0.69      0.67      1200\n",
            "weighted avg       0.76      0.70      0.68      1200\n",
            "\n",
            "time: 306 ms (started: 2021-09-07 04:41:45 +00:00)\n"
          ]
        }
      ]
    },
    {
      "cell_type": "code",
      "metadata": {
        "colab": {
          "base_uri": "https://localhost:8080/"
        },
        "id": "4v5H2M6sAc9Z",
        "outputId": "6ce69482-afed-4445-9f2b-bc45449dba87"
      },
      "source": [
        "model,vec = BaselineModelTest('B','NB','TFIDF')"
      ],
      "execution_count": 77,
      "outputs": [
        {
          "output_type": "stream",
          "name": "stdout",
          "text": [
            "Naive Bayes with TfidfVectorizer\n",
            "\n",
            "\n",
            "              precision    recall  f1-score   support\n",
            "\n",
            "           0       0.83      1.00      0.91       831\n",
            "           1       0.00      0.00      0.00       165\n",
            "\n",
            "    accuracy                           0.83       996\n",
            "   macro avg       0.42      0.50      0.45       996\n",
            "weighted avg       0.70      0.83      0.76       996\n",
            "\n",
            "time: 2.16 s (started: 2021-09-07 04:41:53 +00:00)\n"
          ]
        }
      ]
    },
    {
      "cell_type": "code",
      "metadata": {
        "colab": {
          "base_uri": "https://localhost:8080/"
        },
        "id": "RizD5CY_Ac7W",
        "outputId": "f3c4510f-8cb4-497d-c7d5-73fd38fa2b50"
      },
      "source": [
        "BaselineEvaluateTest('B',model,vec)"
      ],
      "execution_count": 78,
      "outputs": [
        {
          "output_type": "stream",
          "name": "stdout",
          "text": [
            "Dev set evaluation report\n",
            "              precision    recall  f1-score   support\n",
            "\n",
            "           0       0.85      1.00      0.92       845\n",
            "           1       0.00      0.00      0.00       152\n",
            "\n",
            "    accuracy                           0.85       997\n",
            "   macro avg       0.42      0.50      0.46       997\n",
            "weighted avg       0.72      0.85      0.78       997\n",
            "\n",
            "time: 271 ms (started: 2021-09-07 04:41:59 +00:00)\n"
          ]
        }
      ]
    },
    {
      "cell_type": "code",
      "metadata": {
        "colab": {
          "base_uri": "https://localhost:8080/"
        },
        "id": "fztGh5rY_Ocs",
        "outputId": "9c893375-850e-49a3-c831-994c4eed83d9"
      },
      "source": [
        "BaselineEvaluateTest('B',model,vec,'test')"
      ],
      "execution_count": 79,
      "outputs": [
        {
          "output_type": "stream",
          "name": "stdout",
          "text": [
            "Test set evaluation report\n",
            "              precision    recall  f1-score   support\n",
            "\n",
            "           0       0.53      1.00      0.70       633\n",
            "           1       1.00      0.02      0.05       567\n",
            "\n",
            "    accuracy                           0.54      1200\n",
            "   macro avg       0.77      0.51      0.37      1200\n",
            "weighted avg       0.75      0.54      0.39      1200\n",
            "\n",
            "time: 391 ms (started: 2021-09-07 04:42:05 +00:00)\n"
          ]
        }
      ]
    },
    {
      "cell_type": "code",
      "metadata": {
        "id": "saHExmUurfsR"
      },
      "source": [
        ""
      ],
      "execution_count": null,
      "outputs": []
    },
    {
      "cell_type": "markdown",
      "metadata": {
        "id": "JSjOVcfvD5xA"
      },
      "source": [
        "### Task A Modelling"
      ]
    },
    {
      "cell_type": "markdown",
      "metadata": {
        "id": "4oHtQKdjD9OB"
      },
      "source": [
        "#### Logistic Regression Models"
      ]
    },
    {
      "cell_type": "code",
      "metadata": {
        "colab": {
          "base_uri": "https://localhost:8080/"
        },
        "id": "yBsw3LTXD5g_",
        "outputId": "1b1604d5-e0e1-47ad-d064-be2a413138dc"
      },
      "source": [
        "model,vec = BaselineModelTest('A','LR','CV')"
      ],
      "execution_count": 17,
      "outputs": [
        {
          "output_type": "stream",
          "name": "stdout",
          "text": [
            "Logistic Regression with CountVectorizer\n",
            "\n",
            "\n",
            "              precision    recall  f1-score   support\n",
            "\n",
            "           0       0.73      0.86      0.79       561\n",
            "           1       0.65      0.55      0.60       228\n",
            "           2       0.49      0.34      0.40       207\n",
            "\n",
            "    accuracy                           0.68       996\n",
            "   macro avg       0.63      0.59      0.60       996\n",
            "weighted avg       0.67      0.68      0.67       996\n",
            "\n",
            "time: 2.74 s (started: 2021-09-07 03:31:44 +00:00)\n"
          ]
        }
      ]
    },
    {
      "cell_type": "code",
      "metadata": {
        "colab": {
          "base_uri": "https://localhost:8080/"
        },
        "id": "3q44np40EOmQ",
        "outputId": "89111586-2d48-45f9-b172-484a641a750b"
      },
      "source": [
        "BaselineEvaluateTest('A',model,vec)"
      ],
      "execution_count": 21,
      "outputs": [
        {
          "output_type": "stream",
          "name": "stdout",
          "text": [
            "Dev set Evaluation report\n",
            "              precision    recall  f1-score   support\n",
            "\n",
            "           0       0.73      0.88      0.80       578\n",
            "           1       0.60      0.48      0.53       208\n",
            "           2       0.42      0.26      0.32       211\n",
            "\n",
            "    accuracy                           0.67       997\n",
            "   macro avg       0.58      0.54      0.55       997\n",
            "weighted avg       0.64      0.67      0.64       997\n",
            "\n",
            "time: 214 ms (started: 2021-09-07 03:32:22 +00:00)\n"
          ]
        }
      ]
    },
    {
      "cell_type": "code",
      "metadata": {
        "colab": {
          "base_uri": "https://localhost:8080/"
        },
        "id": "zGFKlpajETCh",
        "outputId": "a9908799-2c2f-40a3-9555-b43c5db3bb04"
      },
      "source": [
        "BaselineEvaluateTest('A',model,vec,'test')"
      ],
      "execution_count": 24,
      "outputs": [
        {
          "output_type": "stream",
          "name": "stdout",
          "text": [
            "Test set Evaluation report\n",
            "              precision    recall  f1-score   support\n",
            "\n",
            "           0       0.61      0.81      0.69       325\n",
            "           1       0.89      0.73      0.80       684\n",
            "           2       0.47      0.51      0.49       191\n",
            "\n",
            "    accuracy                           0.72      1200\n",
            "   macro avg       0.66      0.68      0.66      1200\n",
            "weighted avg       0.75      0.72      0.72      1200\n",
            "\n",
            "time: 331 ms (started: 2021-09-07 03:32:44 +00:00)\n"
          ]
        }
      ]
    },
    {
      "cell_type": "code",
      "metadata": {
        "colab": {
          "base_uri": "https://localhost:8080/"
        },
        "id": "3Kx6RK4xEjhB",
        "outputId": "1a2e3c86-4c7e-4749-98c0-af2f3b8ac7d4"
      },
      "source": [
        "model,vec = BaselineModelTest('A','LR','TFIDF')"
      ],
      "execution_count": 25,
      "outputs": [
        {
          "output_type": "stream",
          "name": "stdout",
          "text": [
            "Logistic Regression with TfidfVectorizer\n",
            "\n",
            "\n",
            "              precision    recall  f1-score   support\n",
            "\n",
            "           0       0.69      0.93      0.79       561\n",
            "           1       0.70      0.42      0.53       228\n",
            "           2       0.49      0.24      0.32       207\n",
            "\n",
            "    accuracy                           0.67       996\n",
            "   macro avg       0.63      0.53      0.55       996\n",
            "weighted avg       0.65      0.67      0.63       996\n",
            "\n",
            "time: 7.33 s (started: 2021-09-07 03:33:00 +00:00)\n"
          ]
        }
      ]
    },
    {
      "cell_type": "code",
      "metadata": {
        "colab": {
          "base_uri": "https://localhost:8080/"
        },
        "id": "0ndHPBU6EwmX",
        "outputId": "c5798390-e6f7-4506-b821-e4787fb5f8bd"
      },
      "source": [
        "BaselineEvaluateTest('A',model,vec)"
      ],
      "execution_count": 26,
      "outputs": [
        {
          "output_type": "stream",
          "name": "stdout",
          "text": [
            "Dev set Evaluation report\n",
            "              precision    recall  f1-score   support\n",
            "\n",
            "           0       0.68      0.91      0.78       578\n",
            "           1       0.68      0.38      0.48       208\n",
            "           2       0.46      0.24      0.31       211\n",
            "\n",
            "    accuracy                           0.65       997\n",
            "   macro avg       0.61      0.51      0.52       997\n",
            "weighted avg       0.63      0.65      0.62       997\n",
            "\n",
            "time: 267 ms (started: 2021-09-07 03:33:18 +00:00)\n"
          ]
        }
      ]
    },
    {
      "cell_type": "code",
      "metadata": {
        "colab": {
          "base_uri": "https://localhost:8080/"
        },
        "id": "pM6hKiN-E05p",
        "outputId": "8336011e-b9a7-4285-c533-91677bb1bf08"
      },
      "source": [
        "BaselineEvaluateTest('A',model,vec,'test')"
      ],
      "execution_count": 27,
      "outputs": [
        {
          "output_type": "stream",
          "name": "stdout",
          "text": [
            "Test set Evaluation report\n",
            "              precision    recall  f1-score   support\n",
            "\n",
            "           0       0.51      0.88      0.65       325\n",
            "           1       0.92      0.65      0.76       684\n",
            "           2       0.50      0.42      0.46       191\n",
            "\n",
            "    accuracy                           0.67      1200\n",
            "   macro avg       0.64      0.65      0.62      1200\n",
            "weighted avg       0.74      0.67      0.68      1200\n",
            "\n",
            "time: 383 ms (started: 2021-09-07 03:33:19 +00:00)\n"
          ]
        }
      ]
    },
    {
      "cell_type": "markdown",
      "metadata": {
        "id": "r0Puy5FpWQXw"
      },
      "source": [
        "#### Pipeline for LR\n"
      ]
    },
    {
      "cell_type": "code",
      "metadata": {
        "id": "aVAujZyQ1Hw1"
      },
      "source": [
        "from sklearn.linear_model import SGDClassifier\n",
        "from sklearn.pipeline import Pipeline\n",
        "from sklearn.feature_extraction.text import TfidfTransformer,TfidfVectorizer,CountVectorizer\n",
        "from sklearn import metrics\n",
        "from sklearn.svm import SVC"
      ],
      "execution_count": null,
      "outputs": []
    },
    {
      "cell_type": "code",
      "metadata": {
        "colab": {
          "base_uri": "https://localhost:8080/"
        },
        "id": "FmpzMOo52vBF",
        "outputId": "3da50434-688d-44d0-dea8-4f0c337d461b"
      },
      "source": [
        "test_labels_b = pd.read_csv('trac2_hin_gold_b.csv')\n",
        "test_labels_b = test_labels_b.replace({'Sub-task B':task_b_labels})"
      ],
      "execution_count": 120,
      "outputs": [
        {
          "output_type": "stream",
          "name": "stdout",
          "text": [
            "time: 13.2 ms (started: 2021-09-07 06:09:40 +00:00)\n"
          ]
        }
      ]
    },
    {
      "cell_type": "code",
      "metadata": {
        "colab": {
          "base_uri": "https://localhost:8080/"
        },
        "id": "tZgi4WS03eDt",
        "outputId": "217c2175-2642-4cac-9e74-94e6b1d6cb76"
      },
      "source": [
        "test_labels_a = pd.read_csv('trac2_hin_gold_a.csv')\n",
        "test_labels_a = test_labels_a.replace({'Sub-task A':task_a_labels})"
      ],
      "execution_count": 128,
      "outputs": [
        {
          "output_type": "stream",
          "name": "stdout",
          "text": [
            "time: 16.9 ms (started: 2021-09-07 06:12:43 +00:00)\n"
          ]
        }
      ]
    },
    {
      "cell_type": "code",
      "metadata": {
        "colab": {
          "base_uri": "https://localhost:8080/"
        },
        "id": "QGOyILhi3w5c",
        "outputId": "0e7104fe-c621-4d5c-9459-f2c4c59f0794"
      },
      "source": [
        "test_labels = pd.merge(test_labels_a,test_labels_b,on='ID')"
      ],
      "execution_count": 129,
      "outputs": [
        {
          "output_type": "stream",
          "name": "stdout",
          "text": [
            "time: 9.53 ms (started: 2021-09-07 06:12:44 +00:00)\n"
          ]
        }
      ]
    },
    {
      "cell_type": "code",
      "metadata": {
        "colab": {
          "base_uri": "https://localhost:8080/"
        },
        "id": "lw4n9NEq36zG",
        "outputId": "fda4b9ed-4a5e-4cc9-8e96-09d3450fa3e0"
      },
      "source": [
        "print(test_labels['Sub-task A'].unique())\n",
        "print(test_labels['Sub-task B'].unique())"
      ],
      "execution_count": 130,
      "outputs": [
        {
          "output_type": "stream",
          "name": "stdout",
          "text": [
            "[0 1 2]\n",
            "[0 1]\n",
            "time: 5.44 ms (started: 2021-09-07 06:12:45 +00:00)\n"
          ]
        }
      ]
    },
    {
      "cell_type": "code",
      "metadata": {
        "colab": {
          "base_uri": "https://localhost:8080/"
        },
        "id": "561RX6nc6pzP",
        "outputId": "b4edfcf9-b9c7-4c16-cf63-58a8a7cb9b55"
      },
      "source": [
        "train = train.replace({'Sub-task B':task_b_labels})\n",
        "dev = dev.replace({'Sub-task B':task_b_labels})"
      ],
      "execution_count": 143,
      "outputs": [
        {
          "output_type": "stream",
          "name": "stdout",
          "text": [
            "time: 5.42 ms (started: 2021-09-07 06:23:04 +00:00)\n"
          ]
        }
      ]
    },
    {
      "cell_type": "code",
      "metadata": {
        "colab": {
          "base_uri": "https://localhost:8080/"
        },
        "id": "hkoQfchh0058",
        "outputId": "5ac8b30d-e119-405f-dc37-54ec84004493"
      },
      "source": [
        "def make_pipeline(task):\n",
        "\n",
        "  \"\"\"\n",
        "  Create pipeline for LR model (Task a and b)\n",
        "  Returns :\n",
        "\n",
        "  task_clf : trained model pipeline\n",
        "  \"\"\"\n",
        "\n",
        "  text_clf = Pipeline([\n",
        "    \n",
        "      ('cv',CountVectorizer(ngram_range=(1,3))),\n",
        "      ('clf',LogisticRegression())\n",
        "    \n",
        "  ])\n",
        "  \n",
        "  text_clf.fit(train.Text, train[f'Sub-task {task.upper()}'])\n",
        "\n",
        "  predicted = text_clf.predict(dev.Text)\n",
        "  print(metrics.classification_report(dev[f'Sub-task {task.upper()}'],predicted))\n",
        "  \n",
        "  test_preds = text_clf.predict(test.Text)\n",
        "  print(metrics.classification_report(test_labels[f'Sub-task {task.upper()}'],test_preds))\n",
        "\n",
        "  return text_clf"
      ],
      "execution_count": 152,
      "outputs": [
        {
          "output_type": "stream",
          "name": "stdout",
          "text": [
            "time: 9.66 ms (started: 2021-09-07 06:25:34 +00:00)\n"
          ]
        }
      ]
    },
    {
      "cell_type": "code",
      "metadata": {
        "colab": {
          "base_uri": "https://localhost:8080/"
        },
        "id": "PUaYkgAChfGm",
        "outputId": "7022a1e3-31f8-4bcb-bae3-1c72ba1ca7c6"
      },
      "source": [
        "test = pd.read_csv('trac2_hin_test.csv')"
      ],
      "execution_count": 92,
      "outputs": [
        {
          "output_type": "stream",
          "name": "stdout",
          "text": [
            "time: 18.3 ms (started: 2021-09-07 05:45:40 +00:00)\n"
          ]
        }
      ]
    },
    {
      "cell_type": "markdown",
      "metadata": {
        "id": "SVDHas6x0nkm"
      },
      "source": [
        "Task B"
      ]
    },
    {
      "cell_type": "code",
      "metadata": {
        "colab": {
          "base_uri": "https://localhost:8080/"
        },
        "id": "VyUbIn0J1Zlp",
        "outputId": "aa95006a-a545-485e-b333-78d2396f40a8"
      },
      "source": [
        "lr_b = make_pipeline('b')"
      ],
      "execution_count": 153,
      "outputs": [
        {
          "output_type": "stream",
          "name": "stdout",
          "text": [
            "              precision    recall  f1-score   support\n",
            "\n",
            "           0       0.88      0.99      0.93       845\n",
            "           1       0.78      0.28      0.42       152\n",
            "\n",
            "    accuracy                           0.88       997\n",
            "   macro avg       0.83      0.63      0.67       997\n",
            "weighted avg       0.87      0.88      0.85       997\n",
            "\n",
            "              precision    recall  f1-score   support\n",
            "\n",
            "           0       0.70      0.95      0.81       633\n",
            "           1       0.90      0.55      0.68       567\n",
            "\n",
            "    accuracy                           0.76      1200\n",
            "   macro avg       0.80      0.75      0.74      1200\n",
            "weighted avg       0.80      0.76      0.75      1200\n",
            "\n",
            "time: 2.34 s (started: 2021-09-07 06:25:41 +00:00)\n"
          ]
        }
      ]
    },
    {
      "cell_type": "code",
      "metadata": {
        "colab": {
          "base_uri": "https://localhost:8080/"
        },
        "id": "Zj4FHBG28RpT",
        "outputId": "4969ec03-5a06-4a97-a280-7609e42b4eb3"
      },
      "source": [
        "lr_pkl_b = save_model(lr_b,'b','lr','cv')"
      ],
      "execution_count": 155,
      "outputs": [
        {
          "output_type": "stream",
          "name": "stdout",
          "text": [
            "time: 490 ms (started: 2021-09-07 06:28:23 +00:00)\n"
          ]
        }
      ]
    },
    {
      "cell_type": "code",
      "metadata": {
        "colab": {
          "base_uri": "https://localhost:8080/"
        },
        "id": "33fswDwa8Rex",
        "outputId": "afa54832-ea73-4421-ac0d-0653106dde0f"
      },
      "source": [
        "save_prediction(lr_pkl_b,'b','lr','cv')"
      ],
      "execution_count": 157,
      "outputs": [
        {
          "output_type": "stream",
          "name": "stdout",
          "text": [
            "      Label       ID\n",
            "0         0   C52.17\n",
            "1         0   C52.39\n",
            "2         0   C52.73\n",
            "3         0    C60.3\n",
            "4         0   C60.43\n",
            "...     ...      ...\n",
            "1195      0  C8.5029\n",
            "1196      1  C8.5037\n",
            "1197      0  C8.5046\n",
            "1198      1  C8.5047\n",
            "1199      1  C8.5076\n",
            "\n",
            "[1200 rows x 2 columns]\n",
            "time: 189 ms (started: 2021-09-07 06:29:14 +00:00)\n"
          ]
        }
      ]
    },
    {
      "cell_type": "markdown",
      "metadata": {
        "id": "alSIvFhB0mW-"
      },
      "source": [
        "Task A"
      ]
    },
    {
      "cell_type": "code",
      "metadata": {
        "colab": {
          "base_uri": "https://localhost:8080/"
        },
        "id": "B3RHr9g_77WC",
        "outputId": "9ec993b3-6563-4eff-cca1-079f83b0a64f"
      },
      "source": [
        "lr_a = make_pipeline('a')"
      ],
      "execution_count": 154,
      "outputs": [
        {
          "output_type": "stream",
          "name": "stdout",
          "text": [
            "              precision    recall  f1-score   support\n",
            "\n",
            "           0       0.71      0.90      0.80       578\n",
            "           1       0.63      0.47      0.54       208\n",
            "           2       0.48      0.24      0.32       211\n",
            "\n",
            "    accuracy                           0.67       997\n",
            "   macro avg       0.61      0.54      0.55       997\n",
            "weighted avg       0.65      0.67      0.64       997\n",
            "\n",
            "              precision    recall  f1-score   support\n",
            "\n",
            "           0       0.56      0.87      0.68       325\n",
            "           1       0.91      0.70      0.79       684\n",
            "           2       0.54      0.48      0.51       191\n",
            "\n",
            "    accuracy                           0.71      1200\n",
            "   macro avg       0.67      0.68      0.66      1200\n",
            "weighted avg       0.75      0.71      0.72      1200\n",
            "\n",
            "time: 7.42 s (started: 2021-09-07 06:26:37 +00:00)\n"
          ]
        }
      ]
    },
    {
      "cell_type": "code",
      "metadata": {
        "colab": {
          "base_uri": "https://localhost:8080/"
        },
        "id": "ebc-rVUMf7lQ",
        "outputId": "6290b5b1-f583-4b87-b2c4-5c38f35118a4"
      },
      "source": [
        "lr_pkl = save_model(text_clf,'a','lr','tfidf')"
      ],
      "execution_count": 94,
      "outputs": [
        {
          "output_type": "stream",
          "name": "stdout",
          "text": [
            "time: 253 ms (started: 2021-09-07 05:45:43 +00:00)\n"
          ]
        }
      ]
    },
    {
      "cell_type": "code",
      "metadata": {
        "colab": {
          "base_uri": "https://localhost:8080/"
        },
        "id": "q1Bru4gOgjLw",
        "outputId": "17656cc3-2518-4033-e637-a2b178cf5ba5"
      },
      "source": [
        "save_prediction(lr_pkl,'a','lr','tfidf')"
      ],
      "execution_count": 95,
      "outputs": [
        {
          "output_type": "stream",
          "name": "stdout",
          "text": [
            "      Label       ID\n",
            "0         0   C52.17\n",
            "1         0   C52.39\n",
            "2         0   C52.73\n",
            "3         0    C60.3\n",
            "4         0   C60.43\n",
            "...     ...      ...\n",
            "1195      1  C8.5029\n",
            "1196      1  C8.5037\n",
            "1197      1  C8.5046\n",
            "1198      1  C8.5047\n",
            "1199      1  C8.5076\n",
            "\n",
            "[1200 rows x 2 columns]\n",
            "time: 153 ms (started: 2021-09-07 05:45:44 +00:00)\n"
          ]
        }
      ]
    },
    {
      "cell_type": "markdown",
      "metadata": {
        "id": "zJqMMi7IFKRx"
      },
      "source": [
        "#### Naive Bayes Models"
      ]
    },
    {
      "cell_type": "code",
      "metadata": {
        "colab": {
          "base_uri": "https://localhost:8080/"
        },
        "id": "7CWhZUH_E6q-",
        "outputId": "d8b0f1e3-a29b-41d8-aeda-f77aba1f1417"
      },
      "source": [
        "model,vec = BaselineModelTest('A','NB','CV')"
      ],
      "execution_count": 28,
      "outputs": [
        {
          "output_type": "stream",
          "name": "stdout",
          "text": [
            "Naive Bayes with CountVectorizer\n",
            "\n",
            "\n",
            "              precision    recall  f1-score   support\n",
            "\n",
            "           0       0.72      0.88      0.79       561\n",
            "           1       0.65      0.56      0.60       228\n",
            "           2       0.43      0.23      0.30       207\n",
            "\n",
            "    accuracy                           0.67       996\n",
            "   macro avg       0.60      0.56      0.56       996\n",
            "weighted avg       0.64      0.67      0.64       996\n",
            "\n",
            "time: 1.41 s (started: 2021-09-07 03:33:25 +00:00)\n"
          ]
        }
      ]
    },
    {
      "cell_type": "code",
      "metadata": {
        "colab": {
          "base_uri": "https://localhost:8080/"
        },
        "id": "ifuRXLHJFVV6",
        "outputId": "3e0ef686-9faf-4d0c-b640-cc79bae735b7"
      },
      "source": [
        "BaselineEvaluateTest('A',model,vec)"
      ],
      "execution_count": 29,
      "outputs": [
        {
          "output_type": "stream",
          "name": "stdout",
          "text": [
            "Dev set Evaluation report\n",
            "              precision    recall  f1-score   support\n",
            "\n",
            "           0       0.74      0.88      0.81       578\n",
            "           1       0.64      0.59      0.61       208\n",
            "           2       0.50      0.28      0.36       211\n",
            "\n",
            "    accuracy                           0.69       997\n",
            "   macro avg       0.63      0.58      0.59       997\n",
            "weighted avg       0.67      0.69      0.67       997\n",
            "\n",
            "time: 217 ms (started: 2021-09-07 03:33:29 +00:00)\n"
          ]
        }
      ]
    },
    {
      "cell_type": "code",
      "metadata": {
        "colab": {
          "base_uri": "https://localhost:8080/"
        },
        "id": "i5-9jULwFbpv",
        "outputId": "398918b9-403c-4a1f-8e06-068b376293c2"
      },
      "source": [
        "BaselineEvaluateTest('A',model,vec,'test')"
      ],
      "execution_count": 30,
      "outputs": [
        {
          "output_type": "stream",
          "name": "stdout",
          "text": [
            "Test set Evaluation report\n",
            "              precision    recall  f1-score   support\n",
            "\n",
            "           0       0.56      0.73      0.64       325\n",
            "           1       0.86      0.76      0.80       684\n",
            "           2       0.37      0.35      0.36       191\n",
            "\n",
            "    accuracy                           0.68      1200\n",
            "   macro avg       0.60      0.61      0.60      1200\n",
            "weighted avg       0.70      0.68      0.69      1200\n",
            "\n",
            "time: 316 ms (started: 2021-09-07 03:33:36 +00:00)\n"
          ]
        }
      ]
    },
    {
      "cell_type": "code",
      "metadata": {
        "colab": {
          "base_uri": "https://localhost:8080/"
        },
        "id": "7Yp_yj_IFxyL",
        "outputId": "fe30870f-e7e3-4696-de99-4bd8c7b75b0d"
      },
      "source": [
        "model,vec = BaselineModelTest('A','NB','TFIDF')"
      ],
      "execution_count": 31,
      "outputs": [
        {
          "output_type": "stream",
          "name": "stdout",
          "text": [
            "Naive Bayes with TfidfVectorizer\n",
            "\n",
            "\n",
            "              precision    recall  f1-score   support\n",
            "\n",
            "           0       0.57      1.00      0.73       561\n",
            "           1       0.94      0.07      0.13       228\n",
            "           2       1.00      0.01      0.03       207\n",
            "\n",
            "    accuracy                           0.58       996\n",
            "   macro avg       0.84      0.36      0.30       996\n",
            "weighted avg       0.75      0.58      0.45       996\n",
            "\n",
            "time: 2.11 s (started: 2021-09-07 03:33:41 +00:00)\n"
          ]
        }
      ]
    },
    {
      "cell_type": "code",
      "metadata": {
        "colab": {
          "base_uri": "https://localhost:8080/"
        },
        "id": "Sb2w7oX8F8pD",
        "outputId": "23a4b153-2c19-4be8-f6ff-2e2a4f448ee0"
      },
      "source": [
        "BaselineEvaluateTest('A',model,vec)"
      ],
      "execution_count": 32,
      "outputs": [
        {
          "output_type": "stream",
          "name": "stdout",
          "text": [
            "Dev set Evaluation report\n",
            "              precision    recall  f1-score   support\n",
            "\n",
            "           0       0.59      1.00      0.74       578\n",
            "           1       0.87      0.06      0.12       208\n",
            "           2       1.00      0.02      0.05       211\n",
            "\n",
            "    accuracy                           0.60       997\n",
            "   macro avg       0.82      0.36      0.30       997\n",
            "weighted avg       0.73      0.60      0.46       997\n",
            "\n",
            "time: 255 ms (started: 2021-09-07 03:38:43 +00:00)\n"
          ]
        }
      ]
    },
    {
      "cell_type": "code",
      "metadata": {
        "colab": {
          "base_uri": "https://localhost:8080/"
        },
        "id": "UgwxyS7EF7r2",
        "outputId": "61348ada-e1a9-48af-86d4-e7a3d649d28c"
      },
      "source": [
        "BaselineEvaluateTest('A',model,vec,'test')"
      ],
      "execution_count": 33,
      "outputs": [
        {
          "output_type": "stream",
          "name": "stdout",
          "text": [
            "Test set Evaluation report\n",
            "              precision    recall  f1-score   support\n",
            "\n",
            "           0       0.30      1.00      0.46       325\n",
            "           1       0.99      0.17      0.29       684\n",
            "           2       0.00      0.00      0.00       191\n",
            "\n",
            "    accuracy                           0.37      1200\n",
            "   macro avg       0.43      0.39      0.25      1200\n",
            "weighted avg       0.65      0.37      0.29      1200\n",
            "\n",
            "time: 376 ms (started: 2021-09-07 03:38:47 +00:00)\n"
          ]
        }
      ]
    },
    {
      "cell_type": "markdown",
      "metadata": {
        "id": "lflaM4TN_cWD"
      },
      "source": [
        "#### SVM Model for Task A"
      ]
    },
    {
      "cell_type": "markdown",
      "metadata": {
        "id": "jMMfnEuwMxuh"
      },
      "source": [
        "#### Using SVC"
      ]
    },
    {
      "cell_type": "code",
      "metadata": {
        "colab": {
          "base_uri": "https://localhost:8080/"
        },
        "id": "szaYXRdiM0R-",
        "outputId": "22eebb9d-c3b5-412d-cfeb-3f7fd044f4d0"
      },
      "source": [
        "from sklearn.svm import SVC"
      ],
      "execution_count": null,
      "outputs": [
        {
          "output_type": "stream",
          "name": "stdout",
          "text": [
            "time: 1.09 ms (started: 2021-09-04 19:07:05 +00:00)\n"
          ]
        }
      ]
    },
    {
      "cell_type": "code",
      "metadata": {
        "colab": {
          "base_uri": "https://localhost:8080/"
        },
        "id": "qsXrAB39NRr7",
        "outputId": "e9452674-bc1d-4909-9456-21bdbac11e7f"
      },
      "source": [
        "model,vec = BaselineModelTest('A','SVC','CV')"
      ],
      "execution_count": null,
      "outputs": [
        {
          "output_type": "stream",
          "name": "stdout",
          "text": [
            "SVM Classifier with CountVectorizer\n",
            "\n",
            "\n",
            "              precision    recall  f1-score   support\n",
            "\n",
            "           0       0.74      0.84      0.78       561\n",
            "           1       0.65      0.56      0.60       228\n",
            "           2       0.42      0.33      0.37       207\n",
            "\n",
            "    accuracy                           0.67       996\n",
            "   macro avg       0.60      0.58      0.59       996\n",
            "weighted avg       0.65      0.67      0.66       996\n",
            "\n",
            "time: 3.49 s (started: 2021-09-04 19:38:34 +00:00)\n"
          ]
        }
      ]
    },
    {
      "cell_type": "code",
      "metadata": {
        "colab": {
          "base_uri": "https://localhost:8080/"
        },
        "id": "vUMSk16eQnUM",
        "outputId": "bc585401-b965-4c3a-88d5-7ab8d2ecb2a5"
      },
      "source": [
        "BaselineEvaluate('A',model,vec)"
      ],
      "execution_count": null,
      "outputs": [
        {
          "output_type": "stream",
          "name": "stdout",
          "text": [
            "              precision    recall  f1-score   support\n",
            "\n",
            "           0       0.75      0.85      0.79       578\n",
            "           1       0.58      0.52      0.55       208\n",
            "           2       0.44      0.32      0.37       211\n",
            "\n",
            "    accuracy                           0.67       997\n",
            "   macro avg       0.59      0.56      0.57       997\n",
            "weighted avg       0.65      0.67      0.65       997\n",
            "\n",
            "time: 474 ms (started: 2021-09-04 19:38:40 +00:00)\n"
          ]
        }
      ]
    },
    {
      "cell_type": "code",
      "metadata": {
        "colab": {
          "base_uri": "https://localhost:8080/"
        },
        "id": "-qmy0VisQ8Pr",
        "outputId": "9dd5234e-7ead-4824-b434-4563ddc46bb6"
      },
      "source": [
        "BaselineEvaluate('A',model,vec,'test')"
      ],
      "execution_count": null,
      "outputs": [
        {
          "output_type": "stream",
          "name": "stdout",
          "text": [
            "              precision    recall  f1-score   support\n",
            "\n",
            "           0       0.61      0.79      0.69       325\n",
            "           1       0.90      0.72      0.80       684\n",
            "           2       0.45      0.54      0.49       191\n",
            "\n",
            "    accuracy                           0.71      1200\n",
            "   macro avg       0.65      0.68      0.66      1200\n",
            "weighted avg       0.75      0.71      0.72      1200\n",
            "\n",
            "time: 662 ms (started: 2021-09-04 19:38:46 +00:00)\n"
          ]
        }
      ]
    },
    {
      "cell_type": "code",
      "metadata": {
        "colab": {
          "base_uri": "https://localhost:8080/"
        },
        "id": "gWpwbnagNjba",
        "outputId": "1c719097-78ee-4e5a-aca6-ba5864f70132"
      },
      "source": [
        "model,vec = BaselineModelTest('A','SVC','TFIDF')"
      ],
      "execution_count": null,
      "outputs": [
        {
          "output_type": "stream",
          "name": "stdout",
          "text": [
            "SVM Classifier with TfidfVectorizer\n",
            "\n",
            "\n",
            "              precision    recall  f1-score   support\n",
            "\n",
            "           0       0.74      0.86      0.79       561\n",
            "           1       0.66      0.53      0.59       228\n",
            "           2       0.50      0.39      0.43       207\n",
            "\n",
            "    accuracy                           0.69       996\n",
            "   macro avg       0.63      0.59      0.61       996\n",
            "weighted avg       0.67      0.69      0.67       996\n",
            "\n",
            "time: 5.29 s (started: 2021-09-04 19:38:49 +00:00)\n"
          ]
        }
      ]
    },
    {
      "cell_type": "code",
      "metadata": {
        "colab": {
          "base_uri": "https://localhost:8080/"
        },
        "id": "llQ49Ya8RZ2Q",
        "outputId": "a99b8149-13a1-4acd-d62c-6e0912d6ccb2"
      },
      "source": [
        "BaselineEvaluate('A',model,vec)"
      ],
      "execution_count": null,
      "outputs": [
        {
          "output_type": "stream",
          "name": "stdout",
          "text": [
            "              precision    recall  f1-score   support\n",
            "\n",
            "           0       0.74      0.87      0.80       578\n",
            "           1       0.67      0.47      0.55       208\n",
            "           2       0.46      0.36      0.40       211\n",
            "\n",
            "    accuracy                           0.68       997\n",
            "   macro avg       0.62      0.57      0.58       997\n",
            "weighted avg       0.66      0.68      0.66       997\n",
            "\n",
            "time: 774 ms (started: 2021-09-04 19:38:58 +00:00)\n"
          ]
        }
      ]
    },
    {
      "cell_type": "code",
      "metadata": {
        "colab": {
          "base_uri": "https://localhost:8080/"
        },
        "id": "bck16Q8rRgA8",
        "outputId": "d1f047c0-51c1-4c69-8e24-564e0226d531"
      },
      "source": [
        "BaselineEvaluate('A',model,vec,'test')"
      ],
      "execution_count": null,
      "outputs": [
        {
          "output_type": "stream",
          "name": "stdout",
          "text": [
            "              precision    recall  f1-score   support\n",
            "\n",
            "           0       0.62      0.78      0.69       325\n",
            "           1       0.89      0.74      0.81       684\n",
            "           2       0.44      0.52      0.48       191\n",
            "\n",
            "    accuracy                           0.71      1200\n",
            "   macro avg       0.65      0.68      0.66      1200\n",
            "weighted avg       0.75      0.71      0.72      1200\n",
            "\n",
            "time: 1.05 s (started: 2021-09-04 19:39:02 +00:00)\n"
          ]
        }
      ]
    },
    {
      "cell_type": "markdown",
      "metadata": {
        "id": "FeKs1u6dM0re"
      },
      "source": [
        "#### Using SGDClassifier"
      ]
    },
    {
      "cell_type": "code",
      "metadata": {
        "colab": {
          "base_uri": "https://localhost:8080/"
        },
        "id": "vRIxUlMy_bzF",
        "outputId": "b9ae6806-52a8-4c4c-834c-70fa0cd1700c"
      },
      "source": [
        "from sklearn.linear_model import SGDClassifier"
      ],
      "execution_count": null,
      "outputs": [
        {
          "output_type": "stream",
          "name": "stdout",
          "text": [
            "time: 1.29 ms (started: 2021-09-04 18:59:15 +00:00)\n"
          ]
        }
      ]
    },
    {
      "cell_type": "code",
      "metadata": {
        "colab": {
          "base_uri": "https://localhost:8080/"
        },
        "id": "Pz1HPJOiLd3a",
        "outputId": "706f5625-430e-461f-b9cc-724f8cea1cc9"
      },
      "source": [
        "sgd = SGDClassifier(loss='hinge',random_state=1)"
      ],
      "execution_count": null,
      "outputs": [
        {
          "output_type": "stream",
          "name": "stdout",
          "text": [
            "time: 1.11 ms (started: 2021-09-04 19:02:45 +00:00)\n"
          ]
        }
      ]
    },
    {
      "cell_type": "code",
      "metadata": {
        "id": "zrdyghD3MSJu"
      },
      "source": [
        "sgd.fit()"
      ],
      "execution_count": null,
      "outputs": []
    },
    {
      "cell_type": "code",
      "metadata": {
        "colab": {
          "base_uri": "https://localhost:8080/",
          "height": 220
        },
        "id": "uFQarbN7emEU",
        "outputId": "9741839e-85ea-48ba-e945-5ee9339b68dd"
      },
      "source": [
        "train = pd.read_csv('trac2_hin_train.csv')\n",
        "train.head()"
      ],
      "execution_count": 35,
      "outputs": [
        {
          "output_type": "execute_result",
          "data": {
            "text/html": [
              "<div>\n",
              "<style scoped>\n",
              "    .dataframe tbody tr th:only-of-type {\n",
              "        vertical-align: middle;\n",
              "    }\n",
              "\n",
              "    .dataframe tbody tr th {\n",
              "        vertical-align: top;\n",
              "    }\n",
              "\n",
              "    .dataframe thead th {\n",
              "        text-align: right;\n",
              "    }\n",
              "</style>\n",
              "<table border=\"1\" class=\"dataframe\">\n",
              "  <thead>\n",
              "    <tr style=\"text-align: right;\">\n",
              "      <th></th>\n",
              "      <th>ID</th>\n",
              "      <th>Text</th>\n",
              "      <th>Sub-task A</th>\n",
              "      <th>Sub-task B</th>\n",
              "    </tr>\n",
              "  </thead>\n",
              "  <tbody>\n",
              "    <tr>\n",
              "      <th>0</th>\n",
              "      <td>C4.131</td>\n",
              "      <td>Bollywood film dekhne ke samay logic ghar mein...</td>\n",
              "      <td>NAG</td>\n",
              "      <td>NGEN</td>\n",
              "    </tr>\n",
              "    <tr>\n",
              "      <th>1</th>\n",
              "      <td>C4.638</td>\n",
              "      <td>Chutiya movie...</td>\n",
              "      <td>NAG</td>\n",
              "      <td>NGEN</td>\n",
              "    </tr>\n",
              "    <tr>\n",
              "      <th>2</th>\n",
              "      <td>C38.598</td>\n",
              "      <td>Us jaat bnde ka khene ka matlab tha mar daluga...</td>\n",
              "      <td>OAG</td>\n",
              "      <td>NGEN</td>\n",
              "    </tr>\n",
              "    <tr>\n",
              "      <th>3</th>\n",
              "      <td>C4.2101.1</td>\n",
              "      <td>@Feminism Is CANCER *un feminist yeh sahi hai ...</td>\n",
              "      <td>OAG</td>\n",
              "      <td>NGEN</td>\n",
              "    </tr>\n",
              "    <tr>\n",
              "      <th>4</th>\n",
              "      <td>C29.14.2</td>\n",
              "      <td>Amrit Anand अब तो जुड़े ही है उनको बोलो जुड़ने</td>\n",
              "      <td>NAG</td>\n",
              "      <td>NGEN</td>\n",
              "    </tr>\n",
              "  </tbody>\n",
              "</table>\n",
              "</div>"
            ],
            "text/plain": [
              "          ID  ... Sub-task B\n",
              "0     C4.131  ...       NGEN\n",
              "1     C4.638  ...       NGEN\n",
              "2    C38.598  ...       NGEN\n",
              "3  C4.2101.1  ...       NGEN\n",
              "4   C29.14.2  ...       NGEN\n",
              "\n",
              "[5 rows x 4 columns]"
            ]
          },
          "metadata": {},
          "execution_count": 35
        },
        {
          "output_type": "stream",
          "name": "stdout",
          "text": [
            "time: 40.5 ms (started: 2021-09-07 03:47:53 +00:00)\n"
          ]
        }
      ]
    },
    {
      "cell_type": "code",
      "metadata": {
        "colab": {
          "base_uri": "https://localhost:8080/"
        },
        "id": "-xlVon_Ge8NG",
        "outputId": "53b70548-1477-4d80-bd71-08a85f8e0bd4"
      },
      "source": [
        "task_a_labels,task_b_labels = labelencoder()"
      ],
      "execution_count": 36,
      "outputs": [
        {
          "output_type": "stream",
          "name": "stdout",
          "text": [
            "time: 1.91 ms (started: 2021-09-07 03:47:55 +00:00)\n"
          ]
        }
      ]
    },
    {
      "cell_type": "code",
      "metadata": {
        "colab": {
          "base_uri": "https://localhost:8080/"
        },
        "id": "tsBZ3YxLfHVu",
        "outputId": "c1c50236-a186-4660-e090-af68dd00f92d"
      },
      "source": [
        "train = train.replace({'Sub-task A':task_a_labels})"
      ],
      "execution_count": 37,
      "outputs": [
        {
          "output_type": "stream",
          "name": "stdout",
          "text": [
            "time: 9.07 ms (started: 2021-09-07 03:47:57 +00:00)\n"
          ]
        }
      ]
    },
    {
      "cell_type": "code",
      "metadata": {
        "colab": {
          "base_uri": "https://localhost:8080/",
          "height": 220
        },
        "id": "a1kFuJmofdw0",
        "outputId": "1c0dcc2a-f744-4ff8-833c-89b9d6d2c8ae"
      },
      "source": [
        "train.head()"
      ],
      "execution_count": 38,
      "outputs": [
        {
          "output_type": "execute_result",
          "data": {
            "text/html": [
              "<div>\n",
              "<style scoped>\n",
              "    .dataframe tbody tr th:only-of-type {\n",
              "        vertical-align: middle;\n",
              "    }\n",
              "\n",
              "    .dataframe tbody tr th {\n",
              "        vertical-align: top;\n",
              "    }\n",
              "\n",
              "    .dataframe thead th {\n",
              "        text-align: right;\n",
              "    }\n",
              "</style>\n",
              "<table border=\"1\" class=\"dataframe\">\n",
              "  <thead>\n",
              "    <tr style=\"text-align: right;\">\n",
              "      <th></th>\n",
              "      <th>ID</th>\n",
              "      <th>Text</th>\n",
              "      <th>Sub-task A</th>\n",
              "      <th>Sub-task B</th>\n",
              "    </tr>\n",
              "  </thead>\n",
              "  <tbody>\n",
              "    <tr>\n",
              "      <th>0</th>\n",
              "      <td>C4.131</td>\n",
              "      <td>Bollywood film dekhne ke samay logic ghar mein...</td>\n",
              "      <td>0</td>\n",
              "      <td>NGEN</td>\n",
              "    </tr>\n",
              "    <tr>\n",
              "      <th>1</th>\n",
              "      <td>C4.638</td>\n",
              "      <td>Chutiya movie...</td>\n",
              "      <td>0</td>\n",
              "      <td>NGEN</td>\n",
              "    </tr>\n",
              "    <tr>\n",
              "      <th>2</th>\n",
              "      <td>C38.598</td>\n",
              "      <td>Us jaat bnde ka khene ka matlab tha mar daluga...</td>\n",
              "      <td>1</td>\n",
              "      <td>NGEN</td>\n",
              "    </tr>\n",
              "    <tr>\n",
              "      <th>3</th>\n",
              "      <td>C4.2101.1</td>\n",
              "      <td>@Feminism Is CANCER *un feminist yeh sahi hai ...</td>\n",
              "      <td>1</td>\n",
              "      <td>NGEN</td>\n",
              "    </tr>\n",
              "    <tr>\n",
              "      <th>4</th>\n",
              "      <td>C29.14.2</td>\n",
              "      <td>Amrit Anand अब तो जुड़े ही है उनको बोलो जुड़ने</td>\n",
              "      <td>0</td>\n",
              "      <td>NGEN</td>\n",
              "    </tr>\n",
              "  </tbody>\n",
              "</table>\n",
              "</div>"
            ],
            "text/plain": [
              "          ID  ... Sub-task B\n",
              "0     C4.131  ...       NGEN\n",
              "1     C4.638  ...       NGEN\n",
              "2    C38.598  ...       NGEN\n",
              "3  C4.2101.1  ...       NGEN\n",
              "4   C29.14.2  ...       NGEN\n",
              "\n",
              "[5 rows x 4 columns]"
            ]
          },
          "metadata": {},
          "execution_count": 38
        },
        {
          "output_type": "stream",
          "name": "stdout",
          "text": [
            "time: 24.6 ms (started: 2021-09-07 03:47:58 +00:00)\n"
          ]
        }
      ]
    },
    {
      "cell_type": "code",
      "metadata": {
        "colab": {
          "base_uri": "https://localhost:8080/"
        },
        "id": "8qgjIwDtfssj",
        "outputId": "c27c7f45-5af3-416f-9702-ec773d51fcf0"
      },
      "source": [
        "dev = pd.read_csv('trac2_hin_dev.csv')\n",
        "dev.head()\n",
        "\n",
        "dev = dev.replace({'Sub-task A':task_a_labels})"
      ],
      "execution_count": 39,
      "outputs": [
        {
          "output_type": "stream",
          "name": "stdout",
          "text": [
            "time: 21.2 ms (started: 2021-09-07 03:48:00 +00:00)\n"
          ]
        }
      ]
    },
    {
      "cell_type": "code",
      "metadata": {
        "colab": {
          "base_uri": "https://localhost:8080/"
        },
        "id": "CjYJl_j6MSAM",
        "outputId": "9b0f93a9-074a-486f-fd49-71e4558f6585"
      },
      "source": [
        "from sklearn.linear_model import SGDClassifier\n",
        "from sklearn.pipeline import Pipeline\n",
        "from sklearn.feature_extraction.text import TfidfTransformer\n",
        "from sklearn.svm import SVC\n",
        "\n",
        "text_clf = Pipeline([\n",
        "    ('vect', CountVectorizer()),\n",
        "  \n",
        "    ('clf',SVC(kernel='linear',random_state=42))\n",
        "   \n",
        "])\n",
        "\n",
        "text_clf.fit(train.Text, train['Sub-task A'])\n",
        "\n",
        "predicted = text_clf.predict(dev.Text)\n",
        "\n",
        "print(metrics.classification_report(dev['Sub-task A'],predicted))"
      ],
      "execution_count": null,
      "outputs": [
        {
          "output_type": "stream",
          "name": "stdout",
          "text": [
            "              precision    recall  f1-score   support\n",
            "\n",
            "           0       0.75      0.85      0.80       578\n",
            "           1       0.59      0.54      0.56       208\n",
            "           2       0.45      0.32      0.38       211\n",
            "\n",
            "    accuracy                           0.67       997\n",
            "   macro avg       0.60      0.57      0.58       997\n",
            "weighted avg       0.65      0.67      0.66       997\n",
            "\n",
            "time: 3.07 s (started: 2021-09-05 07:30:30 +00:00)\n"
          ]
        }
      ]
    },
    {
      "cell_type": "markdown",
      "metadata": {
        "id": "HWZEiSOWhTs5"
      },
      "source": [
        "#### Grid Search on SVC"
      ]
    },
    {
      "cell_type": "code",
      "metadata": {
        "colab": {
          "base_uri": "https://localhost:8080/"
        },
        "id": "laFy6-PThQbd",
        "outputId": "50836c8a-8ce0-4e43-edec-3b97735a2341"
      },
      "source": [
        "from sklearn.model_selection import GridSearchCV\n",
        "\n",
        "parameters = [{'vect__ngram_range': [(1,1),(1,2),(1,3)],'clf__kernel':['linear'],'clf__C':[1,2,0.5,3]},\n",
        "              {'vect__ngram_range': [(1,1),(1,2),(1,3)],'clf__kernel':['rbf'],'clf__C':[1,2,0.5,3],'clf__gamma':[0.1, 0.2, 0.3, 0.4, 0.5, 0.6, 0.7, 0.8, 0.9]}]"
      ],
      "execution_count": null,
      "outputs": [
        {
          "output_type": "stream",
          "name": "stdout",
          "text": [
            "time: 3.67 ms (started: 2021-09-05 07:31:05 +00:00)\n"
          ]
        }
      ]
    },
    {
      "cell_type": "code",
      "metadata": {
        "colab": {
          "base_uri": "https://localhost:8080/"
        },
        "id": "72fGKuYblQoO",
        "outputId": "462b57d5-b817-4caa-aea2-a2a55281bc6f"
      },
      "source": [
        "gs_clf = GridSearchCV(text_clf,parameters,cv=5,n_jobs=-1,scoring='f1_weighted')"
      ],
      "execution_count": null,
      "outputs": [
        {
          "output_type": "stream",
          "name": "stdout",
          "text": [
            "time: 12.2 ms (started: 2021-09-05 07:31:29 +00:00)\n"
          ]
        }
      ]
    },
    {
      "cell_type": "code",
      "metadata": {
        "colab": {
          "base_uri": "https://localhost:8080/"
        },
        "id": "aCeq8wEwlzIu",
        "outputId": "758510f3-7737-4b4c-929e-a6554452a874"
      },
      "source": [
        "gs_clf = gs_clf.fit(train.Text,train['Sub-task A'])"
      ],
      "execution_count": null,
      "outputs": [
        {
          "output_type": "stream",
          "name": "stdout",
          "text": [
            "time: 24min 4s (started: 2021-09-05 07:31:39 +00:00)\n"
          ]
        }
      ]
    },
    {
      "cell_type": "code",
      "metadata": {
        "colab": {
          "base_uri": "https://localhost:8080/"
        },
        "id": "-YBlOKEJmjhz",
        "outputId": "6d65a6a3-dff9-46cf-db2f-d156e5755651"
      },
      "source": [
        "gs_clf.best_score_"
      ],
      "execution_count": null,
      "outputs": [
        {
          "output_type": "execute_result",
          "data": {
            "text/plain": [
              "0.6508847204257624"
            ]
          },
          "metadata": {},
          "execution_count": 111
        },
        {
          "output_type": "stream",
          "name": "stdout",
          "text": [
            "time: 4.4 ms (started: 2021-09-05 08:20:17 +00:00)\n"
          ]
        }
      ]
    },
    {
      "cell_type": "code",
      "metadata": {
        "colab": {
          "base_uri": "https://localhost:8080/"
        },
        "id": "gTMU9-LsnDxE",
        "outputId": "bb6295e8-28b5-45c4-b241-004ba18f20d7"
      },
      "source": [
        "gs_clf.best_params_"
      ],
      "execution_count": null,
      "outputs": [
        {
          "output_type": "execute_result",
          "data": {
            "text/plain": [
              "{'clf__C': 1, 'clf__kernel': 'linear', 'vect__ngram_range': (1, 2)}"
            ]
          },
          "metadata": {},
          "execution_count": 112
        },
        {
          "output_type": "stream",
          "name": "stdout",
          "text": [
            "time: 4.67 ms (started: 2021-09-05 08:20:20 +00:00)\n"
          ]
        }
      ]
    },
    {
      "cell_type": "markdown",
      "metadata": {
        "id": "gig_Ccb6nV0W"
      },
      "source": [
        "Pipeline with  new params"
      ]
    },
    {
      "cell_type": "code",
      "metadata": {
        "id": "YRm9FSPsXw4t",
        "colab": {
          "base_uri": "https://localhost:8080/"
        },
        "outputId": "eb749c36-c969-4eb7-9c05-23ab90f48fbe"
      },
      "source": [
        "task_a_labels,_ = labelencoder()"
      ],
      "execution_count": null,
      "outputs": [
        {
          "output_type": "stream",
          "name": "stdout",
          "text": [
            "time: 1.42 ms (started: 2021-09-06 06:28:18 +00:00)\n"
          ]
        }
      ]
    },
    {
      "cell_type": "code",
      "metadata": {
        "colab": {
          "base_uri": "https://localhost:8080/"
        },
        "id": "XCcRcOasXnIM",
        "outputId": "e4e54969-af8e-432a-b9e6-af1810236929"
      },
      "source": [
        "test = pd.read_csv('trac2_hin_test.csv')\n",
        "\n",
        "test_labels = pd.read_csv('trac2_hin_gold_a.csv')\n",
        "\n",
        "test_labels = test_labels.replace({'Sub-task A':task_a_labels})"
      ],
      "execution_count": 40,
      "outputs": [
        {
          "output_type": "stream",
          "name": "stdout",
          "text": [
            "time: 19.2 ms (started: 2021-09-07 03:48:08 +00:00)\n"
          ]
        }
      ]
    },
    {
      "cell_type": "code",
      "metadata": {
        "colab": {
          "base_uri": "https://localhost:8080/"
        },
        "id": "Y6BHfwYOnKfJ",
        "outputId": "04bbae08-539d-4f84-ef18-3ca20001ca2b"
      },
      "source": [
        "from sklearn.linear_model import SGDClassifier\n",
        "from sklearn.pipeline import Pipeline\n",
        "from sklearn.feature_extraction.text import TfidfTransformer,TfidfVectorizer\n",
        "from sklearn import metrics\n",
        "from sklearn.svm import SVC\n",
        "\n",
        "text_clf = Pipeline([\n",
        "  \n",
        "    ('tfidf',TfidfVectorizer(ngram_range = (1,2))),\n",
        "    ('clf',SVC(kernel='linear',random_state=42,C=2,probability=True))\n",
        "   \n",
        "])\n",
        "\n",
        "text_clf.fit(train.Text, train['Sub-task A'])\n",
        "\n",
        "predicted = text_clf.predict(dev.Text)\n",
        "print(metrics.classification_report(dev['Sub-task A'],predicted))\n",
        "\n",
        "test_preds = text_clf.predict(test.Text)\n",
        "print(metrics.classification_report(test_labels['Sub-task A'],test_preds))"
      ],
      "execution_count": null,
      "outputs": [
        {
          "output_type": "stream",
          "name": "stdout",
          "text": [
            "              precision    recall  f1-score   support\n",
            "\n",
            "           0       0.77      0.81      0.79       578\n",
            "           1       0.63      0.59      0.61       208\n",
            "           2       0.47      0.43      0.45       211\n",
            "\n",
            "    accuracy                           0.68       997\n",
            "   macro avg       0.62      0.61      0.62       997\n",
            "weighted avg       0.68      0.68      0.68       997\n",
            "\n",
            "              precision    recall  f1-score   support\n",
            "\n",
            "           0       0.66      0.71      0.68       325\n",
            "           1       0.89      0.78      0.83       684\n",
            "           2       0.44      0.59      0.50       191\n",
            "\n",
            "    accuracy                           0.73      1200\n",
            "   macro avg       0.66      0.69      0.67      1200\n",
            "weighted avg       0.76      0.73      0.74      1200\n",
            "\n",
            "time: 21.2 s (started: 2021-09-06 09:45:49 +00:00)\n"
          ]
        }
      ]
    },
    {
      "cell_type": "markdown",
      "metadata": {
        "id": "WwoVsA9mzYoX"
      },
      "source": [
        "#### Save the best model **SVC**"
      ]
    },
    {
      "cell_type": "code",
      "metadata": {
        "colab": {
          "base_uri": "https://localhost:8080/"
        },
        "id": "MMn3uu5qzYSx",
        "outputId": "ec0a1321-9403-4c8f-e188-4b11c5f7fecb"
      },
      "source": [
        "import pickle\n",
        "modelfile = 'svcmodel_task_a.pkl'\n",
        "pickle.dump(text_clf,open(modelfile,'wb'))\n"
      ],
      "execution_count": null,
      "outputs": [
        {
          "output_type": "stream",
          "name": "stdout",
          "text": [
            "time: 210 ms (started: 2021-09-06 09:46:15 +00:00)\n"
          ]
        }
      ]
    },
    {
      "cell_type": "code",
      "metadata": {
        "id": "LVZxAYvKBUFm",
        "colab": {
          "base_uri": "https://localhost:8080/",
          "height": 432
        },
        "outputId": "a07ff55a-a8e3-4a0a-ecce-b9dfa619e6cd"
      },
      "source": [
        "test"
      ],
      "execution_count": null,
      "outputs": [
        {
          "output_type": "execute_result",
          "data": {
            "text/html": [
              "<div>\n",
              "<style scoped>\n",
              "    .dataframe tbody tr th:only-of-type {\n",
              "        vertical-align: middle;\n",
              "    }\n",
              "\n",
              "    .dataframe tbody tr th {\n",
              "        vertical-align: top;\n",
              "    }\n",
              "\n",
              "    .dataframe thead th {\n",
              "        text-align: right;\n",
              "    }\n",
              "</style>\n",
              "<table border=\"1\" class=\"dataframe\">\n",
              "  <thead>\n",
              "    <tr style=\"text-align: right;\">\n",
              "      <th></th>\n",
              "      <th>ID</th>\n",
              "      <th>Text</th>\n",
              "    </tr>\n",
              "  </thead>\n",
              "  <tbody>\n",
              "    <tr>\n",
              "      <th>0</th>\n",
              "      <td>C52.17</td>\n",
              "      <td>ko</td>\n",
              "    </tr>\n",
              "    <tr>\n",
              "      <th>1</th>\n",
              "      <td>C52.39</td>\n",
              "      <td>ladkiyon video</td>\n",
              "    </tr>\n",
              "    <tr>\n",
              "      <th>2</th>\n",
              "      <td>C52.73</td>\n",
              "      <td>ki video gahrep</td>\n",
              "    </tr>\n",
              "    <tr>\n",
              "      <th>3</th>\n",
              "      <td>C60.3</td>\n",
              "      <td>o sadharon video bhai</td>\n",
              "    </tr>\n",
              "    <tr>\n",
              "      <th>4</th>\n",
              "      <td>C60.43</td>\n",
              "      <td>ba bhai kyea bola tum moza aaa giea 😌😌😌😂😂😂</td>\n",
              "    </tr>\n",
              "    <tr>\n",
              "      <th>...</th>\n",
              "      <td>...</td>\n",
              "      <td>...</td>\n",
              "    </tr>\n",
              "    <tr>\n",
              "      <th>1195</th>\n",
              "      <td>C8.5029</td>\n",
              "      <td>aree bhenchod chup ho lodu aurt</td>\n",
              "    </tr>\n",
              "    <tr>\n",
              "      <th>1196</th>\n",
              "      <td>C8.5037</td>\n",
              "      <td>abe saali bharwe itni gaand kyun fati hui he t...</td>\n",
              "    </tr>\n",
              "    <tr>\n",
              "      <th>1197</th>\n",
              "      <td>C8.5046</td>\n",
              "      <td>chachi ji... usne ek mara lekin lerki ne jo is...</td>\n",
              "    </tr>\n",
              "    <tr>\n",
              "      <th>1198</th>\n",
              "      <td>C8.5047</td>\n",
              "      <td>sun oye bhenkilodi itnaa maarunga saali tod du...</td>\n",
              "    </tr>\n",
              "    <tr>\n",
              "      <th>1199</th>\n",
              "      <td>C8.5076</td>\n",
              "      <td>arey gaand m aag lg gyi bhnchod 😂😂😂 so called ...</td>\n",
              "    </tr>\n",
              "  </tbody>\n",
              "</table>\n",
              "<p>1200 rows × 2 columns</p>\n",
              "</div>"
            ],
            "text/plain": [
              "           ID                                               Text\n",
              "0      C52.17                                                 ko\n",
              "1      C52.39                                     ladkiyon video\n",
              "2      C52.73                                    ki video gahrep\n",
              "3       C60.3                              o sadharon video bhai\n",
              "4      C60.43         ba bhai kyea bola tum moza aaa giea 😌😌😌😂😂😂\n",
              "...       ...                                                ...\n",
              "1195  C8.5029                    aree bhenchod chup ho lodu aurt\n",
              "1196  C8.5037  abe saali bharwe itni gaand kyun fati hui he t...\n",
              "1197  C8.5046  chachi ji... usne ek mara lekin lerki ne jo is...\n",
              "1198  C8.5047  sun oye bhenkilodi itnaa maarunga saali tod du...\n",
              "1199  C8.5076  arey gaand m aag lg gyi bhnchod 😂😂😂 so called ...\n",
              "\n",
              "[1200 rows x 2 columns]"
            ]
          },
          "metadata": {},
          "execution_count": 21
        },
        {
          "output_type": "stream",
          "name": "stdout",
          "text": [
            "time: 22.4 ms (started: 2021-09-06 09:20:23 +00:00)\n"
          ]
        }
      ]
    },
    {
      "cell_type": "markdown",
      "metadata": {
        "id": "LyJthRk1b7ZI"
      },
      "source": [
        "#### Save predictions to csv file\n"
      ]
    },
    {
      "cell_type": "code",
      "metadata": {
        "colab": {
          "base_uri": "https://localhost:8080/"
        },
        "id": "9OUie-Z7_nFk",
        "outputId": "77114cb6-d88c-4cb7-a04f-4473285cf4fa"
      },
      "source": [
        "svm_preds_a = pd.DataFrame(test_preds,columns = ['Label'])"
      ],
      "execution_count": null,
      "outputs": [
        {
          "output_type": "stream",
          "name": "stdout",
          "text": [
            "time: 1.71 ms (started: 2021-09-06 09:54:29 +00:00)\n"
          ]
        }
      ]
    },
    {
      "cell_type": "code",
      "metadata": {
        "colab": {
          "base_uri": "https://localhost:8080/"
        },
        "id": "hZHvLkqnBqTU",
        "outputId": "4be5d5ba-7cba-457b-82d9-18096a9f89b0"
      },
      "source": [
        "svm_preds_a['ID'] = test['ID']"
      ],
      "execution_count": null,
      "outputs": [
        {
          "output_type": "stream",
          "name": "stdout",
          "text": [
            "time: 2.71 ms (started: 2021-09-06 09:54:31 +00:00)\n"
          ]
        }
      ]
    },
    {
      "cell_type": "code",
      "metadata": {
        "colab": {
          "base_uri": "https://localhost:8080/",
          "height": 220
        },
        "id": "9TMy_tXfBJjy",
        "outputId": "da64c0d7-8e0f-440a-d3ae-c48371bfc5d4"
      },
      "source": [
        "svm_preds_a.head()"
      ],
      "execution_count": null,
      "outputs": [
        {
          "output_type": "execute_result",
          "data": {
            "text/html": [
              "<div>\n",
              "<style scoped>\n",
              "    .dataframe tbody tr th:only-of-type {\n",
              "        vertical-align: middle;\n",
              "    }\n",
              "\n",
              "    .dataframe tbody tr th {\n",
              "        vertical-align: top;\n",
              "    }\n",
              "\n",
              "    .dataframe thead th {\n",
              "        text-align: right;\n",
              "    }\n",
              "</style>\n",
              "<table border=\"1\" class=\"dataframe\">\n",
              "  <thead>\n",
              "    <tr style=\"text-align: right;\">\n",
              "      <th></th>\n",
              "      <th>Label</th>\n",
              "      <th>ID</th>\n",
              "    </tr>\n",
              "  </thead>\n",
              "  <tbody>\n",
              "    <tr>\n",
              "      <th>0</th>\n",
              "      <td>1</td>\n",
              "      <td>C52.17</td>\n",
              "    </tr>\n",
              "    <tr>\n",
              "      <th>1</th>\n",
              "      <td>0</td>\n",
              "      <td>C52.39</td>\n",
              "    </tr>\n",
              "    <tr>\n",
              "      <th>2</th>\n",
              "      <td>0</td>\n",
              "      <td>C52.73</td>\n",
              "    </tr>\n",
              "    <tr>\n",
              "      <th>3</th>\n",
              "      <td>0</td>\n",
              "      <td>C60.3</td>\n",
              "    </tr>\n",
              "    <tr>\n",
              "      <th>4</th>\n",
              "      <td>0</td>\n",
              "      <td>C60.43</td>\n",
              "    </tr>\n",
              "  </tbody>\n",
              "</table>\n",
              "</div>"
            ],
            "text/plain": [
              "   Label      ID\n",
              "0      1  C52.17\n",
              "1      0  C52.39\n",
              "2      0  C52.73\n",
              "3      0   C60.3\n",
              "4      0  C60.43"
            ]
          },
          "metadata": {},
          "execution_count": 55
        },
        {
          "output_type": "stream",
          "name": "stdout",
          "text": [
            "time: 18 ms (started: 2021-09-06 09:54:46 +00:00)\n"
          ]
        }
      ]
    },
    {
      "cell_type": "code",
      "metadata": {
        "colab": {
          "base_uri": "https://localhost:8080/"
        },
        "id": "K2jvZLfHGo-A",
        "outputId": "1409abb7-889a-4897-f83c-0be5f9b3c30f"
      },
      "source": [
        "svm_preds_a['Label'].unique()"
      ],
      "execution_count": null,
      "outputs": [
        {
          "output_type": "execute_result",
          "data": {
            "text/plain": [
              "array([1, 0, 2])"
            ]
          },
          "metadata": {},
          "execution_count": 56
        },
        {
          "output_type": "stream",
          "name": "stdout",
          "text": [
            "time: 5.47 ms (started: 2021-09-06 09:54:58 +00:00)\n"
          ]
        }
      ]
    },
    {
      "cell_type": "code",
      "metadata": {
        "colab": {
          "base_uri": "https://localhost:8080/"
        },
        "id": "ZIj0cPrSDgOO",
        "outputId": "6ae91f9f-a7f5-41bd-f086-a4040512015e"
      },
      "source": [
        "task_a_labels"
      ],
      "execution_count": null,
      "outputs": [
        {
          "output_type": "execute_result",
          "data": {
            "text/plain": [
              "{'CAG': 2, 'NAG': 0, 'OAG': 1}"
            ]
          },
          "metadata": {},
          "execution_count": 57
        },
        {
          "output_type": "stream",
          "name": "stdout",
          "text": [
            "time: 3.2 ms (started: 2021-09-06 09:55:02 +00:00)\n"
          ]
        }
      ]
    },
    {
      "cell_type": "code",
      "metadata": {
        "colab": {
          "base_uri": "https://localhost:8080/"
        },
        "id": "1bq9jbawDaPo",
        "outputId": "dee0dd5c-f80f-439d-98c5-e0f32c0c24e1"
      },
      "source": [
        "task_a_id2labels = {1:'OAG',2:'CAG',0:'NAG'}"
      ],
      "execution_count": null,
      "outputs": [
        {
          "output_type": "stream",
          "name": "stdout",
          "text": [
            "time: 1.03 ms (started: 2021-09-06 09:55:07 +00:00)\n"
          ]
        }
      ]
    },
    {
      "cell_type": "code",
      "metadata": {
        "colab": {
          "base_uri": "https://localhost:8080/"
        },
        "id": "WmccBS3CC-79",
        "outputId": "1d4adb11-8785-4e2b-8144-b65d24cd9e9b"
      },
      "source": [
        "svm_preds_a = svm_preds_a.replace({'Label':task_a_id2labels})"
      ],
      "execution_count": null,
      "outputs": [
        {
          "output_type": "stream",
          "name": "stdout",
          "text": [
            "time: 5.1 ms (started: 2021-09-06 09:55:10 +00:00)\n"
          ]
        }
      ]
    },
    {
      "cell_type": "code",
      "metadata": {
        "colab": {
          "base_uri": "https://localhost:8080/"
        },
        "id": "fyFijCN-Gxhe",
        "outputId": "62954280-8d2d-414d-ffca-45ef3a6c23f9"
      },
      "source": [
        "svm_preds_a['Label'].unique()"
      ],
      "execution_count": null,
      "outputs": [
        {
          "output_type": "execute_result",
          "data": {
            "text/plain": [
              "array(['OAG', 'NAG', 'CAG'], dtype=object)"
            ]
          },
          "metadata": {},
          "execution_count": 60
        },
        {
          "output_type": "stream",
          "name": "stdout",
          "text": [
            "time: 3.68 ms (started: 2021-09-06 09:55:13 +00:00)\n"
          ]
        }
      ]
    },
    {
      "cell_type": "code",
      "metadata": {
        "colab": {
          "base_uri": "https://localhost:8080/"
        },
        "id": "S43iS8kNANo_",
        "outputId": "aa734be5-4b2d-4737-e340-006b9bcb6fa2"
      },
      "source": [
        "svm_preds_a.to_csv('trac2_hin_SVC_preds_a.csv')"
      ],
      "execution_count": null,
      "outputs": [
        {
          "output_type": "stream",
          "name": "stdout",
          "text": [
            "time: 5.54 ms (started: 2021-09-06 09:55:41 +00:00)\n"
          ]
        }
      ]
    },
    {
      "cell_type": "markdown",
      "metadata": {
        "id": "QuDSybAtEP23"
      },
      "source": [
        "### BaselineModels after Text Cleaning (remove punctuations and stopwords)"
      ]
    },
    {
      "cell_type": "code",
      "metadata": {
        "colab": {
          "base_uri": "https://localhost:8080/"
        },
        "id": "ap3Q6LP7F316",
        "outputId": "1a799f05-c396-49cb-822c-e6a7f939a00d"
      },
      "source": [
        "!pip install --q lingualytics"
      ],
      "execution_count": null,
      "outputs": [
        {
          "output_type": "stream",
          "name": "stdout",
          "text": [
            "\u001b[K     |████████████████████████████████| 2.8 MB 11.1 MB/s \n",
            "\u001b[K     |████████████████████████████████| 241 kB 62.6 MB/s \n",
            "\u001b[K     |████████████████████████████████| 1.5 MB 34.4 MB/s \n",
            "\u001b[K     |████████████████████████████████| 895 kB 60.6 MB/s \n",
            "\u001b[K     |████████████████████████████████| 3.3 MB 47.5 MB/s \n",
            "\u001b[K     |████████████████████████████████| 636 kB 56.9 MB/s \n",
            "\u001b[K     |████████████████████████████████| 50 kB 6.9 MB/s \n",
            "\u001b[?25htime: 8.56 s (started: 2021-09-05 03:54:25 +00:00)\n"
          ]
        }
      ]
    },
    {
      "cell_type": "code",
      "metadata": {
        "colab": {
          "base_uri": "https://localhost:8080/"
        },
        "id": "e1bCaM3UGGz7",
        "outputId": "dfd6fe0c-8811-4b65-b14e-895f9a2cfe0d"
      },
      "source": [
        "from lingualytics.preprocessing import remove_lessthan,remove_punctuation,remove_stopwords\n",
        "from lingualytics.stopwords import hinglish_stopwords,hi_stopwords\n",
        "import string,re"
      ],
      "execution_count": null,
      "outputs": [
        {
          "output_type": "stream",
          "name": "stdout",
          "text": [
            "time: 1.37 ms (started: 2021-09-05 04:03:50 +00:00)\n"
          ]
        }
      ]
    },
    {
      "cell_type": "code",
      "metadata": {
        "colab": {
          "base_uri": "https://localhost:8080/"
        },
        "id": "pzNiLaGDGlp_",
        "outputId": "78226411-d2e0-4c76-e1d6-37b5ca3799f1"
      },
      "source": [
        "def clean_text(text):\n",
        "\n",
        "  \"\"\"\n",
        "  util function to clean the text\n",
        "  ------------------------------\n",
        "  Parameters-\n",
        "  text : input text to preprocess\n",
        "\n",
        "  Return-\n",
        "  text : cleaned text\n",
        "  \"\"\"\n",
        "\n",
        "  # lower case the text\n",
        "  text = str(text).lower()\n",
        "  # remove twitter user names\n",
        "  text = re.sub('@[\\w]+','',text)\n",
        "  # remove hyperlinks\n",
        "  text = re.sub('https?://\\S+|www\\.\\S+', '', text)\n",
        "  text = re.sub('<.,*?>+', '', text)\n",
        "  text = re.sub('[%s]' % re.escape(string.punctuation), '', text)\n",
        "\n",
        "  return text"
      ],
      "execution_count": null,
      "outputs": [
        {
          "output_type": "stream",
          "name": "stdout",
          "text": [
            "time: 4.81 ms (started: 2021-09-05 03:57:49 +00:00)\n"
          ]
        }
      ]
    },
    {
      "cell_type": "code",
      "metadata": {
        "colab": {
          "base_uri": "https://localhost:8080/"
        },
        "id": "qWUnD8_MGv17",
        "outputId": "63ddf616-ac08-48b6-c3a8-8b786287e73b"
      },
      "source": [
        "def preprocess_text(text):\n",
        "\n",
        "  \"\"\"\n",
        "  Util function to preprocess text\n",
        "\n",
        "  Parameters:\n",
        "          text(str):  \n",
        "\n",
        "  Returns:\n",
        "          text(str): preprocessed text\n",
        "  \"\"\"\n",
        "  \n",
        "  text = clean_text(text)\n",
        "  text = ' '.join(token for token in text.split() if token not in hinglish_stopwords)\n",
        "  return text"
      ],
      "execution_count": null,
      "outputs": [
        {
          "output_type": "stream",
          "name": "stdout",
          "text": [
            "time: 2.07 ms (started: 2021-09-05 03:58:06 +00:00)\n"
          ]
        }
      ]
    },
    {
      "cell_type": "code",
      "metadata": {
        "colab": {
          "base_uri": "https://localhost:8080/"
        },
        "id": "unO-QTVgEZEm",
        "outputId": "1cd22384-da18-4366-f350-6d7bfe33bb8a"
      },
      "source": [
        "for task in ['A','B']:\n",
        "  print(\"------Task \" + task + \"----------\")\n",
        "  for Model in ['LR','NB','SVC']:\n",
        "    for Vec in ['CV','TFIDF']:\n",
        "      model,vec = BaselineModelTest(task,Model,Vec)\n",
        "\n",
        "      BaselineEvaluateTest(task,model,vec)\n",
        "      BaselineEvaluateTest(task,model,vec,eval='test')"
      ],
      "execution_count": null,
      "outputs": [
        {
          "output_type": "stream",
          "name": "stdout",
          "text": [
            "------Task A----------\n",
            "Logistic Regression with CountVectorizer\n",
            "\n",
            "\n",
            "              precision    recall  f1-score   support\n",
            "\n",
            "           0       0.73      0.86      0.79       561\n",
            "           1       0.65      0.55      0.60       228\n",
            "           2       0.49      0.34      0.40       207\n",
            "\n",
            "    accuracy                           0.68       996\n",
            "   macro avg       0.63      0.59      0.60       996\n",
            "weighted avg       0.67      0.68      0.67       996\n",
            "\n",
            "Dev set Evaluation report\n",
            "              precision    recall  f1-score   support\n",
            "\n",
            "           0       0.67      0.92      0.78       578\n",
            "           1       0.65      0.40      0.49       208\n",
            "           2       0.49      0.17      0.25       211\n",
            "\n",
            "    accuracy                           0.65       997\n",
            "   macro avg       0.60      0.50      0.51       997\n",
            "weighted avg       0.63      0.65      0.61       997\n",
            "\n",
            "Test set Evaluation report\n",
            "              precision    recall  f1-score   support\n",
            "\n",
            "           0       0.47      0.92      0.62       325\n",
            "           1       0.92      0.60      0.72       684\n",
            "           2       0.49      0.31      0.38       191\n",
            "\n",
            "    accuracy                           0.64      1200\n",
            "   macro avg       0.63      0.61      0.57      1200\n",
            "weighted avg       0.73      0.64      0.64      1200\n",
            "\n",
            "Logistic Regression with TfidfVectorizer\n",
            "\n",
            "\n",
            "              precision    recall  f1-score   support\n",
            "\n",
            "           0       0.69      0.93      0.79       561\n",
            "           1       0.70      0.42      0.53       228\n",
            "           2       0.49      0.24      0.32       207\n",
            "\n",
            "    accuracy                           0.67       996\n",
            "   macro avg       0.63      0.53      0.55       996\n",
            "weighted avg       0.65      0.67      0.63       996\n",
            "\n",
            "Dev set Evaluation report\n",
            "              precision    recall  f1-score   support\n",
            "\n",
            "           0       0.62      0.98      0.76       578\n",
            "           1       0.75      0.24      0.36       208\n",
            "           2       0.50      0.05      0.09       211\n",
            "\n",
            "    accuracy                           0.63       997\n",
            "   macro avg       0.62      0.42      0.41       997\n",
            "weighted avg       0.62      0.63      0.54       997\n",
            "\n",
            "Test set Evaluation report\n",
            "              precision    recall  f1-score   support\n",
            "\n",
            "           0       0.37      0.99      0.54       325\n",
            "           1       0.95      0.44      0.60       684\n",
            "           2       0.42      0.03      0.05       191\n",
            "\n",
            "    accuracy                           0.52      1200\n",
            "   macro avg       0.58      0.48      0.40      1200\n",
            "weighted avg       0.71      0.52      0.50      1200\n",
            "\n",
            "Naive Bayes with CountVectorizer\n",
            "\n",
            "\n",
            "              precision    recall  f1-score   support\n",
            "\n",
            "           0       0.72      0.88      0.79       561\n",
            "           1       0.65      0.56      0.60       228\n",
            "           2       0.43      0.23      0.30       207\n",
            "\n",
            "    accuracy                           0.67       996\n",
            "   macro avg       0.60      0.56      0.56       996\n",
            "weighted avg       0.64      0.67      0.64       996\n",
            "\n",
            "Dev set Evaluation report\n",
            "              precision    recall  f1-score   support\n",
            "\n",
            "           0       0.77      0.80      0.79       578\n",
            "           1       0.56      0.65      0.60       208\n",
            "           2       0.43      0.31      0.36       211\n",
            "\n",
            "    accuracy                           0.67       997\n",
            "   macro avg       0.59      0.59      0.58       997\n",
            "weighted avg       0.65      0.67      0.66       997\n",
            "\n",
            "Test set Evaluation report\n",
            "              precision    recall  f1-score   support\n",
            "\n",
            "           0       0.59      0.65      0.62       325\n",
            "           1       0.84      0.75      0.79       684\n",
            "           2       0.38      0.46      0.42       191\n",
            "\n",
            "    accuracy                           0.68      1200\n",
            "   macro avg       0.60      0.62      0.61      1200\n",
            "weighted avg       0.70      0.68      0.69      1200\n",
            "\n",
            "Naive Bayes with TfidfVectorizer\n",
            "\n",
            "\n",
            "              precision    recall  f1-score   support\n",
            "\n",
            "           0       0.57      1.00      0.73       561\n",
            "           1       0.94      0.07      0.13       228\n",
            "           2       1.00      0.01      0.03       207\n",
            "\n",
            "    accuracy                           0.58       996\n",
            "   macro avg       0.84      0.36      0.30       996\n",
            "weighted avg       0.75      0.58      0.45       996\n",
            "\n",
            "Dev set Evaluation report\n",
            "              precision    recall  f1-score   support\n",
            "\n",
            "           0       0.59      1.00      0.74       578\n",
            "           1       0.91      0.10      0.18       208\n",
            "           2       1.00      0.01      0.03       211\n",
            "\n",
            "    accuracy                           0.60       997\n",
            "   macro avg       0.84      0.37      0.32       997\n",
            "weighted avg       0.75      0.60      0.48       997\n",
            "\n",
            "Test set Evaluation report\n",
            "              precision    recall  f1-score   support\n",
            "\n",
            "           0       0.31      1.00      0.47       325\n",
            "           1       0.98      0.23      0.37       684\n",
            "           2       0.00      0.00      0.00       191\n",
            "\n",
            "    accuracy                           0.40      1200\n",
            "   macro avg       0.43      0.41      0.28      1200\n",
            "weighted avg       0.64      0.40      0.34      1200\n",
            "\n",
            "SVM Classifier with CountVectorizer\n",
            "\n",
            "\n",
            "              precision    recall  f1-score   support\n",
            "\n",
            "           0       0.74      0.84      0.78       561\n",
            "           1       0.65      0.56      0.60       228\n",
            "           2       0.42      0.33      0.37       207\n",
            "\n",
            "    accuracy                           0.67       996\n",
            "   macro avg       0.60      0.58      0.59       996\n",
            "weighted avg       0.65      0.67      0.66       996\n",
            "\n",
            "Dev set Evaluation report\n",
            "              precision    recall  f1-score   support\n",
            "\n",
            "           0       0.70      0.89      0.78       578\n",
            "           1       0.59      0.52      0.55       208\n",
            "           2       0.47      0.18      0.26       211\n",
            "\n",
            "    accuracy                           0.66       997\n",
            "   macro avg       0.59      0.53      0.53       997\n",
            "weighted avg       0.63      0.66      0.62       997\n",
            "\n",
            "Test set Evaluation report\n",
            "              precision    recall  f1-score   support\n",
            "\n",
            "           0       0.50      0.88      0.63       325\n",
            "           1       0.92      0.65      0.76       684\n",
            "           2       0.46      0.33      0.38       191\n",
            "\n",
            "    accuracy                           0.66      1200\n",
            "   macro avg       0.62      0.62      0.59      1200\n",
            "weighted avg       0.73      0.66      0.67      1200\n",
            "\n",
            "SVM Classifier with TfidfVectorizer\n",
            "\n",
            "\n",
            "              precision    recall  f1-score   support\n",
            "\n",
            "           0       0.74      0.86      0.79       561\n",
            "           1       0.66      0.53      0.59       228\n",
            "           2       0.50      0.39      0.43       207\n",
            "\n",
            "    accuracy                           0.69       996\n",
            "   macro avg       0.63      0.59      0.61       996\n",
            "weighted avg       0.67      0.69      0.67       996\n",
            "\n",
            "Dev set Evaluation report\n",
            "              precision    recall  f1-score   support\n",
            "\n",
            "           0       0.67      0.94      0.78       578\n",
            "           1       0.68      0.42      0.52       208\n",
            "           2       0.51      0.12      0.20       211\n",
            "\n",
            "    accuracy                           0.66       997\n",
            "   macro avg       0.62      0.49      0.50       997\n",
            "weighted avg       0.64      0.66      0.60       997\n",
            "\n",
            "Test set Evaluation report\n",
            "              precision    recall  f1-score   support\n",
            "\n",
            "           0       0.43      0.93      0.59       325\n",
            "           1       0.93      0.62      0.74       684\n",
            "           2       0.44      0.12      0.19       191\n",
            "\n",
            "    accuracy                           0.62      1200\n",
            "   macro avg       0.60      0.55      0.51      1200\n",
            "weighted avg       0.72      0.62      0.61      1200\n",
            "\n",
            "------Task B----------\n",
            "Logistic Regression with CountVectorizer\n",
            "\n",
            "\n",
            "              precision    recall  f1-score   support\n",
            "\n",
            "           0       0.89      0.98      0.93       831\n",
            "           1       0.79      0.37      0.50       165\n",
            "\n",
            "    accuracy                           0.88       996\n",
            "   macro avg       0.84      0.68      0.72       996\n",
            "weighted avg       0.87      0.88      0.86       996\n",
            "\n",
            "Dev set Evaluation report\n",
            "              precision    recall  f1-score   support\n",
            "\n",
            "           0       0.88      0.99      0.93       845\n",
            "           1       0.73      0.22      0.34       152\n",
            "\n",
            "    accuracy                           0.87       997\n",
            "   macro avg       0.80      0.60      0.63       997\n",
            "weighted avg       0.85      0.87      0.84       997\n",
            "\n",
            "Test set Evaluation report\n",
            "              precision    recall  f1-score   support\n",
            "\n",
            "           0       0.64      0.97      0.77       633\n",
            "           1       0.92      0.39      0.55       567\n",
            "\n",
            "    accuracy                           0.70      1200\n",
            "   macro avg       0.78      0.68      0.66      1200\n",
            "weighted avg       0.77      0.70      0.67      1200\n",
            "\n",
            "Logistic Regression with TfidfVectorizer\n",
            "\n",
            "\n",
            "              precision    recall  f1-score   support\n",
            "\n",
            "           0       0.84      1.00      0.91       831\n",
            "           1       0.88      0.04      0.08       165\n",
            "\n",
            "    accuracy                           0.84       996\n",
            "   macro avg       0.86      0.52      0.50       996\n",
            "weighted avg       0.85      0.84      0.77       996\n",
            "\n",
            "Dev set Evaluation report\n",
            "              precision    recall  f1-score   support\n",
            "\n",
            "           0       0.85      1.00      0.92       845\n",
            "           1       1.00      0.03      0.05       152\n",
            "\n",
            "    accuracy                           0.85       997\n",
            "   macro avg       0.93      0.51      0.49       997\n",
            "weighted avg       0.87      0.85      0.79       997\n",
            "\n",
            "Test set Evaluation report\n",
            "              precision    recall  f1-score   support\n",
            "\n",
            "           0       0.54      1.00      0.70       633\n",
            "           1       1.00      0.07      0.12       567\n",
            "\n",
            "    accuracy                           0.56      1200\n",
            "   macro avg       0.77      0.53      0.41      1200\n",
            "weighted avg       0.76      0.56      0.43      1200\n",
            "\n",
            "Naive Bayes with CountVectorizer\n",
            "\n",
            "\n",
            "              precision    recall  f1-score   support\n",
            "\n",
            "           0       0.86      0.97      0.92       831\n",
            "           1       0.63      0.22      0.33       165\n",
            "\n",
            "    accuracy                           0.85       996\n",
            "   macro avg       0.75      0.60      0.62       996\n",
            "weighted avg       0.82      0.85      0.82       996\n",
            "\n",
            "Dev set Evaluation report\n",
            "              precision    recall  f1-score   support\n",
            "\n",
            "           0       0.90      0.95      0.92       845\n",
            "           1       0.58      0.41      0.48       152\n",
            "\n",
            "    accuracy                           0.87       997\n",
            "   macro avg       0.74      0.68      0.70       997\n",
            "weighted avg       0.85      0.87      0.86       997\n",
            "\n",
            "Test set Evaluation report\n",
            "              precision    recall  f1-score   support\n",
            "\n",
            "           0       0.73      0.91      0.81       633\n",
            "           1       0.85      0.62      0.72       567\n",
            "\n",
            "    accuracy                           0.77      1200\n",
            "   macro avg       0.79      0.76      0.76      1200\n",
            "weighted avg       0.79      0.77      0.77      1200\n",
            "\n",
            "Naive Bayes with TfidfVectorizer\n",
            "\n",
            "\n",
            "              precision    recall  f1-score   support\n",
            "\n",
            "           0       0.83      1.00      0.91       831\n",
            "           1       0.00      0.00      0.00       165\n",
            "\n",
            "    accuracy                           0.83       996\n",
            "   macro avg       0.42      0.50      0.45       996\n",
            "weighted avg       0.70      0.83      0.76       996\n",
            "\n",
            "Dev set Evaluation report\n",
            "              precision    recall  f1-score   support\n",
            "\n",
            "           0       0.85      1.00      0.92       845\n",
            "           1       0.00      0.00      0.00       152\n",
            "\n",
            "    accuracy                           0.85       997\n",
            "   macro avg       0.42      0.50      0.46       997\n",
            "weighted avg       0.72      0.85      0.78       997\n",
            "\n",
            "Test set Evaluation report\n",
            "              precision    recall  f1-score   support\n",
            "\n",
            "           0       0.53      1.00      0.69       633\n",
            "           1       1.00      0.01      0.02       567\n",
            "\n",
            "    accuracy                           0.53      1200\n",
            "   macro avg       0.76      0.50      0.36      1200\n",
            "weighted avg       0.75      0.53      0.37      1200\n",
            "\n",
            "SVM Classifier with CountVectorizer\n",
            "\n",
            "\n",
            "              precision    recall  f1-score   support\n",
            "\n",
            "           0       0.90      0.95      0.92       831\n",
            "           1       0.64      0.47      0.54       165\n",
            "\n",
            "    accuracy                           0.87       996\n",
            "   macro avg       0.77      0.71      0.73       996\n",
            "weighted avg       0.86      0.87      0.86       996\n",
            "\n",
            "Dev set Evaluation report\n",
            "              precision    recall  f1-score   support\n",
            "\n",
            "           0       0.89      0.96      0.92       845\n",
            "           1       0.60      0.38      0.46       152\n",
            "\n",
            "    accuracy                           0.87       997\n",
            "   macro avg       0.75      0.67      0.69       997\n",
            "weighted avg       0.85      0.87      0.85       997\n",
            "\n",
            "Test set Evaluation report\n",
            "              precision    recall  f1-score   support\n",
            "\n",
            "           0       0.69      0.92      0.79       633\n",
            "           1       0.86      0.54      0.67       567\n",
            "\n",
            "    accuracy                           0.74      1200\n",
            "   macro avg       0.78      0.73      0.73      1200\n",
            "weighted avg       0.77      0.74      0.73      1200\n",
            "\n",
            "SVM Classifier with TfidfVectorizer\n",
            "\n",
            "\n",
            "              precision    recall  f1-score   support\n",
            "\n",
            "           0       0.88      0.99      0.93       831\n",
            "           1       0.83      0.30      0.44       165\n",
            "\n",
            "    accuracy                           0.87       996\n",
            "   macro avg       0.86      0.65      0.69       996\n",
            "weighted avg       0.87      0.87      0.85       996\n",
            "\n",
            "Dev set Evaluation report\n",
            "              precision    recall  f1-score   support\n",
            "\n",
            "           0       0.88      0.99      0.93       845\n",
            "           1       0.81      0.26      0.39       152\n",
            "\n",
            "    accuracy                           0.88       997\n",
            "   macro avg       0.85      0.62      0.66       997\n",
            "weighted avg       0.87      0.88      0.85       997\n",
            "\n",
            "Test set Evaluation report\n",
            "              precision    recall  f1-score   support\n",
            "\n",
            "           0       0.66      0.95      0.78       633\n",
            "           1       0.90      0.46      0.61       567\n",
            "\n",
            "    accuracy                           0.72      1200\n",
            "   macro avg       0.78      0.71      0.70      1200\n",
            "weighted avg       0.77      0.72      0.70      1200\n",
            "\n",
            "time: 40.2 s (started: 2021-09-05 05:04:28 +00:00)\n"
          ]
        }
      ]
    },
    {
      "cell_type": "code",
      "metadata": {
        "id": "QP4tToWIYGXz"
      },
      "source": [
        ""
      ],
      "execution_count": null,
      "outputs": []
    }
  ]
}